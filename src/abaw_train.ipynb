{
 "cells": [
  {
   "cell_type": "code",
   "execution_count": 1,
   "metadata": {},
   "outputs": [
    {
     "name": "stdout",
     "output_type": "stream",
     "text": [
      "env: CUDA_VISIBLE_DEVICES=0\n"
     ]
    }
   ],
   "source": [
    "%env CUDA_VISIBLE_DEVICES=0"
   ]
  },
  {
   "cell_type": "code",
   "execution_count": 2,
   "metadata": {},
   "outputs": [],
   "source": [
    "DATA_DIR = '/home/HDD6TB/datasets/emotions/ABAW'"
   ]
  },
  {
   "cell_type": "code",
   "execution_count": 3,
   "metadata": {},
   "outputs": [],
   "source": [
    "import os\n",
    "from PIL import Image\n",
    "import cv2\n",
    "from sklearn.model_selection import train_test_split\n",
    "from sklearn import preprocessing\n",
    "from sklearn import svm\n",
    "from sklearn.ensemble import RandomForestClassifier,RandomForestRegressor\n",
    "from sklearn import svm,metrics,preprocessing\n",
    "from sklearn.neighbors import KNeighborsClassifier\n",
    "from sklearn.decomposition import PCA\n",
    "from sklearn.pipeline import Pipeline\n",
    "from sklearn.metrics import precision_score, recall_score, accuracy_score, f1_score,roc_auc_score,average_precision_score\n",
    "import mord\n",
    "\n",
    "from collections import defaultdict\n",
    "import os\n",
    "import glob\n",
    "import random\n",
    "import numpy as np\n",
    "from tqdm import tqdm\n",
    "import time\n",
    "import pickle\n",
    "import pandas as pd\n",
    "import random\n",
    "import csv  \n",
    "import matplotlib.pyplot as plt"
   ]
  },
  {
   "cell_type": "code",
   "execution_count": 4,
   "metadata": {},
   "outputs": [],
   "source": [
    "def get_names(id):\n",
    "    name = \"\"\n",
    "    if id>=0 and id<10:\n",
    "        name = \"0000\" + str(id)\n",
    "    elif id>=10 and id<100:\n",
    "        name = \"000\" + str(id)\n",
    "    elif id>=100 and id<1000:\n",
    "        name = \"00\" + str(id)\n",
    "    elif id>=1000 and id<10000:\n",
    "        name = \"0\" + str(id)\n",
    "    else:\n",
    "        name = str(id)\n",
    "    return name"
   ]
  },
  {
   "cell_type": "code",
   "execution_count": 5,
   "metadata": {},
   "outputs": [],
   "source": [
    "compare_filenames=lambda x: int(os.path.splitext(x)[0])"
   ]
  },
  {
   "cell_type": "code",
   "execution_count": 6,
   "metadata": {},
   "outputs": [
    {
     "name": "stdout",
     "output_type": "stream",
     "text": [
      "2.4.1\n"
     ]
    }
   ],
   "source": [
    "import pathlib\n",
    "import tensorflow as tf\n",
    "from tensorflow.keras.applications.resnet import preprocess_input\n",
    "from tensorflow.keras.layers import TimeDistributed, GRU, Dense, Dropout, Flatten, LSTM, Activation, MaxPooling2D\n",
    "from tensorflow.keras.regularizers import l2 as L2_reg\n",
    "from tensorflow.keras.layers import Conv2D, BatchNormalization, \\\n",
    "    MaxPool2D, GlobalMaxPool2D, Input, Masking, Conv3D, MaxPooling3D, GlobalMaxPool3D\n",
    "from tensorflow.keras.optimizers import SGD, Adam\n",
    "import tensorflow.keras.backend as K \n",
    "\n",
    "print(tf.__version__)\n",
    "from tensorflow.compat.v1.keras.backend import set_session \n",
    "config = tf.compat.v1.ConfigProto()\n",
    "config.gpu_options.allow_growth = True\n",
    "sess=tf.compat.v1.Session(config=config)\n",
    "set_session(sess)"
   ]
  },
  {
   "cell_type": "markdown",
   "metadata": {},
   "source": [
    "# Number of frames"
   ]
  },
  {
   "cell_type": "code",
   "execution_count": 40,
   "metadata": {},
   "outputs": [
    {
     "name": "stdout",
     "output_type": "stream",
     "text": [
      "27-60-1280x720 2932 02933.jpg\n",
      "video39 10678 10671.jpg\n",
      "77-30-1280x720 5672 05673.jpg\n",
      "91-30-1920x1080 10921 10922.jpg\n",
      "360 3509 03473.jpg\n",
      "136 4487 04488.jpg\n",
      "197 1869 01786.jpg\n",
      "291 1830 01831.jpg\n",
      "16-30-1920x1080 5473 05474.jpg\n",
      "video2 2064 02055.jpg\n",
      "89-30-1080x1920 630 00631.jpg\n",
      "408 2978 02978.jpg\n",
      "110-30-270x480 9978 09979.jpg\n",
      "324 5614 05614.jpg\n",
      "14-30-1920x1080 5310 05311.jpg\n",
      "129-24-1280x720 6153 06154.jpg\n",
      "153 3677 03678.jpg\n",
      "314 2260 02260.jpg\n",
      "255 1691 01692.jpg\n",
      "284 4054 04054.jpg\n",
      "298 2836 02836.jpg\n",
      "206 4476 04475.jpg\n",
      "video84 525 00525.jpg\n",
      "387 2911 02911.jpg\n",
      "286 2677 02678.jpg\n",
      "55-25-1280x720 1505 01480.jpg\n",
      "336 4344 04344.jpg\n",
      "video52 10679 10671.jpg\n",
      "60-30-1920x1080 4564 04564.jpg\n",
      "120 3591 03592.jpg\n",
      "267 3841 03841.jpg\n",
      "121-24-1920x1080 10628 10566.jpg\n",
      "349 4054 04054.jpg\n",
      "46-30-484x360 2944 02945.jpg\n",
      "218 3849 03830.jpg\n",
      "video55 8419 08409.jpg\n",
      "368 2929 02929.jpg\n",
      "9-15-1920x1080 47434 47435.jpg\n",
      "384 3451 03451.jpg\n",
      "228 2155 02155.jpg\n",
      "video3 7801 07802.jpg\n",
      "106-30-720x1280 1404 01405.jpg\n",
      "64-24-640x360 4918 04919.jpg\n",
      "244 2321 02288.jpg\n",
      "28-30-1280x720-2 396 00397.jpg\n",
      "235 3682 03683.jpg\n",
      "video86_3 402 00402.jpg\n",
      "92-24-1920x1080 8163 08164.jpg\n",
      "376 3569 03570.jpg\n",
      "185 4052 04053.jpg\n",
      "157 2604 02605.jpg\n",
      "38-30-1920x1080 2431 02432.jpg\n",
      "video87 1822 01808.jpg\n",
      "57-25-426x240 300 00301.jpg\n",
      "4-30-1920x1080 8260 08261.jpg\n",
      "video86_2 886 00886.jpg\n",
      "video45_5 414 00415.jpg\n",
      "143 10102 10103.jpg\n",
      "114 2449 02450.jpg\n",
      "243 4120 04121.jpg\n",
      "133 460 00461.jpg\n",
      "video64 6100 06100.jpg\n",
      "125-25-1280x720 6841 06842.jpg\n",
      "video81 8433 07975.jpg\n",
      "274 3526 03526.jpg\n",
      "113 15020 15021.jpg\n",
      "video66 154 00145.jpg\n",
      "171 3976 03977.jpg\n",
      "446 2248 02248.jpg\n",
      "126-30-1080x1920 4594 04594.jpg\n",
      "168 2978 02979.jpg\n",
      "video33 7553 07538.jpg\n",
      "201 1360 01360.jpg\n",
      "video61 116 00105.jpg\n",
      "236 3673 03673.jpg\n",
      "119 4576 04578.jpg\n",
      "116 2517 02518.jpg\n",
      "82-25-854x480 5402 05403.jpg\n",
      "15-24-1920x1080 3592 03593.jpg\n",
      "87-25-1920x1080 1802 01803.jpg\n",
      "36-24-1280x720 5260 05186.jpg\n",
      "130-25-1280x720 8461 08462.jpg\n",
      "219 3891 03888.jpg\n",
      "123-25-1920x1080 27241 27204.jpg\n",
      "318 4107 04079.jpg\n",
      "133-30-1280x720 2403 02404.jpg\n",
      "26-60-1280x720 2065 02066.jpg\n",
      "266 2465 02465.jpg\n",
      "7-60-1920x1080 23148 23149.jpg\n",
      "70-30-720x1280 2783 02784.jpg\n",
      "261 2866 02866.jpg\n",
      "video9 3794 03773.jpg\n",
      "199 2917 02918.jpg\n",
      "282 3614 03614.jpg\n",
      "305 4578 04579.jpg\n",
      "5-60-1920x1080-4 4892 04893.jpg\n",
      "116-30-1280x720 6183 06184.jpg\n",
      "video91 710 00710.jpg\n",
      "19-24-1920x1080 6633 06634.jpg\n",
      "video21 6808 06797.jpg\n",
      "196 5453 05454.jpg\n",
      "10-60-1280x720 2501 02502.jpg\n",
      "385 2976 02976.jpg\n",
      "video8 5367 05368.jpg\n",
      "video44 7785 07778.jpg\n",
      "video83 2702 02702.jpg\n",
      "202 940 00940.jpg\n",
      "32-60-1920x1080 4459 04460.jpg\n",
      "video90 3570 03546.jpg\n",
      "323 2936 02936.jpg\n",
      "198 2284 02285.jpg\n",
      "78-30-960x720 4442 04443.jpg\n",
      "video63 274 00263.jpg\n",
      "359 3861 03861.jpg\n",
      "386 1751 01752.jpg\n",
      "373 2704 02704.jpg\n",
      "225 1462 01462.jpg\n",
      "48-30-720x1280 1592 01593.jpg\n",
      "382 2713 02713.jpg\n",
      "video41 3494 03466.jpg\n",
      "176 6415 06416.jpg\n",
      "165 4567 04545.jpg\n",
      "31-30-1920x1080 4722 04723.jpg\n",
      "24-30-1920x1080-1 1912 01913.jpg\n",
      "214 2555 02555.jpg\n",
      "434 5232 05233.jpg\n",
      "426 2779 02779.jpg\n",
      "449 3552 03553.jpg\n",
      "149 15658 15648.jpg\n",
      "307 3310 03311.jpg\n",
      "video56 10695 10695.jpg\n",
      "video35 3567 03568.jpg\n",
      "319 2137 02137.jpg\n",
      "video74 18189 18189.jpg\n",
      "video45_6 308 00309.jpg\n",
      "video5 2468 02460.jpg\n",
      "347 2924 02924.jpg\n",
      "138-30-1280x720 3331 03332.jpg\n",
      "312 5109 05092.jpg\n",
      "video15 4287 04288.jpg\n",
      "326 4717 04718.jpg\n",
      "207 3038 03040.jpg\n",
      "204 5925 05925.jpg\n",
      "135-24-1920x1080 9423 09423.jpg\n",
      "video27 16418 16410.jpg\n",
      "358 324 00324.jpg\n",
      "video53 7979 07980.jpg\n",
      "208 5159 05159.jpg\n",
      "39-25-424x240 4590 04591.jpg\n",
      "137 4786 04787.jpg\n",
      "video14 7585 07586.jpg\n",
      "227 4417 04417.jpg\n",
      "155 3113 03114.jpg\n",
      "112 5915 05710.jpg\n",
      "video89 2241 02241.jpg\n",
      "402 4422 04422.jpg\n",
      "video67 1849 01849.jpg\n",
      "video38 2944 02936.jpg\n",
      "105 10076 10077.jpg\n",
      "134 1789 01790.jpg\n",
      "100-29-1080x1920 2639 02640.jpg\n",
      "167 4717 04718.jpg\n",
      "277 5171 05171.jpg\n",
      "346 5693 05694.jpg\n",
      "128 6286 06287.jpg\n",
      "269 4697 04697.jpg\n",
      "425 5070 04951.jpg\n",
      "video24 5204 05205.jpg\n",
      "103 26617 26618.jpg\n",
      "415 2903 02903.jpg\n",
      "393 4916 04915.jpg\n",
      "203 3964 03965.jpg\n",
      "439 2308 02308.jpg\n",
      "450 9907 09907.jpg\n",
      "110 5504 05505.jpg\n",
      "365 1067 01067.jpg\n",
      "395 5153 05153.jpg\n",
      "75-30-960x720 1953 01954.jpg\n",
      "398 3269 03269.jpg\n",
      "375 2957 02957.jpg\n",
      "258 1464 01464.jpg\n",
      "147 19694 19681.jpg\n",
      "video23 8789 08783.jpg\n",
      "83-24-1920x1080 5343 05344.jpg\n",
      "video93 443 00443.jpg\n",
      "58-30-640x480 2876 02877.jpg\n",
      "429 1673 01674.jpg\n",
      "63-30-1920x1080 2412 02413.jpg\n",
      "video46 3172 03167.jpg\n",
      "115-30-1280x720 4081 04081.jpg\n",
      "187 4404 04405.jpg\n",
      "111 7246 07247.jpg\n",
      "video10_1 4256 04249.jpg\n",
      "124-30-720x1280 10494 10495.jpg\n",
      "210 3238 03238.jpg\n",
      "video36 2424 02417.jpg\n",
      "364 3318 03318.jpg\n",
      "81-30-576x360 3603 03588.jpg\n",
      "328 2714 02714.jpg\n",
      "122-60-1920x1080-3 9243 09244.jpg\n",
      "186 4165 04162.jpg\n",
      "video45_7 179 00180.jpg\n",
      "22-30-1920x1080 5335 05336.jpg\n",
      "175 2502 02503.jpg\n",
      "video13 10566 10567.jpg\n",
      "80-30-320x240 5673 05674.jpg\n",
      "video25 3644 03645.jpg\n",
      "388 4158 04159.jpg\n",
      "112-30-640x360 6002 06002.jpg\n",
      "video85 7946 07946.jpg\n",
      "96-30-1280x720 5603 05604.jpg\n",
      "video34 10281 10271.jpg\n",
      "293 2110 02110.jpg\n",
      "234 2919 02919.jpg\n",
      "353 2856 02856.jpg\n",
      "288 3199 03199.jpg\n",
      "292 4703 04703.jpg\n",
      "424 4432 04433.jpg\n",
      "53-30-360x480 1052 01053.jpg\n",
      "122-60-1920x1080-1 7862 07863.jpg\n",
      "128-24-1920x1080 3812 03813.jpg\n",
      "179 4450 04451.jpg\n",
      "315 3937 03937.jpg\n",
      "148 18144 18145.jpg\n",
      "181 5861 05862.jpg\n",
      "194 4536 04537.jpg\n",
      "video77 3004 03004.jpg\n",
      "video86_1 1771 01771.jpg\n",
      "37-30-1280x720 2706 02707.jpg\n",
      "268 4366 04366.jpg\n",
      "290 3162 03159.jpg\n",
      "71-30-1920x1080 8001 07992.jpg\n",
      "399 5199 05200.jpg\n",
      "video75 640 00640.jpg\n",
      "8-30-1280x720 9113 09114.jpg\n",
      "video72 128 00120.jpg\n",
      "102-30-640x360 2983 02979.jpg\n",
      "177 3126 03127.jpg\n",
      "144 15605 15606.jpg\n",
      "123 9776 09768.jpg\n",
      "374 1212 01212.jpg\n",
      "348 4444 04443.jpg\n",
      "video12 5579 05580.jpg\n",
      "video7 3377 03027.jpg\n",
      "322 2428 02429.jpg\n",
      "309 2498 02498.jpg\n",
      "107-30-640x480 73 00073.jpg\n",
      "189 3854 03855.jpg\n",
      "372 2042 02042.jpg\n",
      "245 2530 02530.jpg\n",
      "229 3562 03563.jpg\n",
      "61-24-1920x1080 9156 09157.jpg\n",
      "159 3458 03459.jpg\n",
      "240 6791 06791.jpg\n",
      "195 6117 06118.jpg\n",
      "394 2335 02335.jpg\n",
      "84-30-1920x1080 2583 02583.jpg\n",
      "256 3336 03336.jpg\n",
      "273 4619 04619.jpg\n",
      "35-30-1920x1080 20807 20790.jpg\n",
      "278 4286 04287.jpg\n",
      "17-24-1920x1080 5787 05788.jpg\n",
      "246 1345 01345.jpg\n",
      "257 4388 04389.jpg\n",
      "275 2447 02447.jpg\n",
      "220 5025 05025.jpg\n",
      "334 3398 03398.jpg\n",
      "131-30-1920x1080 8012 08013.jpg\n",
      "video1 14587 14566.jpg\n",
      "18-24-1920x1080 4830 04831.jpg\n",
      "226 4096 04096.jpg\n",
      "109-30-1280x720 1045 01046.jpg\n",
      "335 3278 03278.jpg\n",
      "99-30-720x720 1800 01801.jpg\n",
      "video92 2553 02494.jpg\n",
      "418 2906 02906.jpg\n",
      "389 4556 04557.jpg\n",
      "260 2404 02405.jpg\n",
      "355 1631 01632.jpg\n",
      "357 1373 01373.jpg\n",
      "28-30-1280x720-1 262 00263.jpg\n",
      "59-30-1280x720 7741 07742.jpg\n",
      "25-25-600x480 5743 05690.jpg\n",
      "211 2162 02162.jpg\n",
      "105-30-1280x720 1501 01502.jpg\n",
      "241 3512 03512.jpg\n",
      "video73 5951 05936.jpg\n",
      "2-30-640x360 19352 19353.jpg\n",
      "254 3386 03386.jpg\n",
      "107 5315 05316.jpg\n",
      "137-30-1920x1080 8552 08553.jpg\n",
      "285 2988 02988.jpg\n",
      "200 5039 05040.jpg\n",
      "221 5124 05124.jpg\n",
      "video26 11020 11021.jpg\n",
      "video45_4 1038 01039.jpg\n",
      "172 11644 11645.jpg\n",
      "354 5389 05390.jpg\n",
      "391 3583 03583.jpg\n",
      "video60 1919 01906.jpg\n",
      "video82 10671 10671.jpg\n",
      "40-30-1280x720 9659 09660.jpg\n",
      "50-30-1920x1080 2699 02700.jpg\n",
      "252 2756 02757.jpg\n",
      "381 1265 01265.jpg\n",
      "video29 11259 11249.jpg\n",
      "65-30-400x228 6667 06638.jpg\n",
      "108-15-640x480 478 00479.jpg\n",
      "447 3993 03992.jpg\n",
      "video45_1 812 00813.jpg\n",
      "video51 4407 04408.jpg\n",
      "118-30-640x480 2420 02420.jpg\n",
      "190 5426 05427.jpg\n",
      "106 8163 08165.jpg\n",
      "294 3288 03288.jpg\n",
      "video54 3591 03591.jpg\n",
      "140 4582 04583.jpg\n",
      "141 4405 04406.jpg\n",
      "253 2276 02277.jpg\n",
      "127-30-1280x720 2213 02213.jpg\n",
      "247 2270 02270.jpg\n",
      "11-24-1920x1080 5389 05390.jpg\n",
      "289 4203 04203.jpg\n",
      "371 680 00680.jpg\n",
      "161 1728 01729.jpg\n",
      "47-30-654x480 4033 03921.jpg\n",
      "140-30-632x360 6754 06739.jpg\n",
      "317 1685 01685.jpg\n",
      "182 4355 04356.jpg\n",
      "85-24-1280x720 2664 02665.jpg\n",
      "345 2344 02345.jpg\n",
      "97-29-1920x1080 3366 03367.jpg\n",
      "video11 4379 04380.jpg\n",
      "45-24-1280x720 6081 06082.jpg\n",
      "212 4562 04562.jpg\n",
      "28-30-1280x720-4 276 00277.jpg\n",
      "251 2106 02106.jpg\n",
      "129 9013 09015.jpg\n",
      "120-30-1280x720 15041 15038.jpg\n",
      "30-30-1920x1080 3062 03063.jpg\n",
      "166 4514 04515.jpg\n",
      "56-30-1080x1920 4300 04301.jpg\n",
      "295 3769 03769.jpg\n",
      "video20 11271 11272.jpg\n",
      "320 4738 04618.jpg\n",
      "5-60-1920x1080-1 6153 06154.jpg\n",
      "117-25-1920x1080 4081 04078.jpg\n",
      "403 2165 02165.jpg\n",
      "440 2520 02520.jpg\n",
      "213 6397 06397.jpg\n",
      "video88 8850 08829.jpg\n",
      "232 2372 02372.jpg\n",
      "104-17-720x480 2425 02426.jpg\n",
      "29-24-1280x720 3683 03684.jpg\n",
      "224 2233 02140.jpg\n",
      "331 2954 02955.jpg\n",
      "264 4744 04745.jpg\n"
     ]
    },
    {
     "name": "stdout",
     "output_type": "stream",
     "text": [
      "video30 8217 08214.jpg\n",
      "341 3096 03098.jpg\n",
      "215 3409 03378.jpg\n",
      "94-30-1920x1080 2101 02102.jpg\n",
      "421 3615 03615.jpg\n",
      "138 5583 05584.jpg\n",
      "117 5465 05466.jpg\n",
      "video42 9226 09217.jpg\n",
      "6-30-1920x1080 7985 07986.jpg\n",
      "332 4665 04560.jpg\n",
      "409 3608 03608.jpg\n",
      "44-25-426x240 300 00301.jpg\n",
      "154 3362 03363.jpg\n",
      "407 3817 03817.jpg\n",
      "41-24-1280x720 6160 06161.jpg\n",
      "5-60-1920x1080-3 6333 06334.jpg\n",
      "158 3031 03032.jpg\n",
      "43-30-406x720 2873 02874.jpg\n",
      "video94 696 00696.jpg\n",
      "392 3550 03550.jpg\n",
      "video19 784 00775.jpg\n",
      "183 2769 02770.jpg\n",
      "video6 5324 05325.jpg\n",
      "video65 4571 04572.jpg\n",
      "250 2928 02928.jpg\n",
      "5-60-1920x1080-2 6213 06214.jpg\n",
      "3-25-1920x1080 6188 06189.jpg\n",
      "363 3240 03240.jpg\n",
      "233 4479 04360.jpg\n",
      "52-30-1280x720 1924 01863.jpg\n",
      "299 2336 02337.jpg\n",
      "135 3591 03593.jpg\n",
      "329 5086 05087.jpg\n",
      "video37 9186 09116.jpg\n",
      "video62 5579 05579.jpg\n",
      "423 5265 05265.jpg\n",
      "416 6511 06512.jpg\n",
      "122 4127 04128.jpg\n",
      "21-24-1920x1080 5230 05231.jpg\n",
      "369 4438 04437.jpg\n",
      "video16 12486 12487.jpg\n",
      "223 2797 02797.jpg\n",
      "video48 2542 02534.jpg\n",
      "134-30-1280x720 3875 03875.jpg\n",
      "114-30-1280x720 3662 03662.jpg\n",
      "126 6286 06287.jpg\n",
      "54-30-1080x1920 6445 06446.jpg\n",
      "122-60-1920x1080-5 12065 12066.jpg\n",
      "209 2856 02738.jpg\n",
      "119-30-848x480 1651 01652.jpg\n",
      "146 4850 04852.jpg\n",
      "51-30-1280x720 2499 02500.jpg\n",
      "339 4632 04631.jpg\n",
      "72-30-1280x720 7571 07572.jpg\n",
      "23-24-1920x1080 5411 05412.jpg\n",
      "49-30-1280x720 847 00848.jpg\n",
      "98-30-360x360 6645 06646.jpg\n",
      "113-60-1280x720 4022 04022.jpg\n",
      "79-30-960x720 2494 02495.jpg\n",
      "162 7934 07935.jpg\n",
      "303 3950 03950.jpg\n",
      "378 3480 03480.jpg\n",
      "101-30-1080x1920 5153 05154.jpg\n",
      "283 4768 04648.jpg\n",
      "118 587 00588.jpg\n",
      "video22 10469 10458.jpg\n",
      "370 1939 01939.jpg\n",
      "131 4777 04779.jpg\n",
      "76-30-640x280 1773 01774.jpg\n",
      "111-25-1920x1080 771 00772.jpg\n",
      "132-30-426x240 992 00974.jpg\n",
      "419 6963 06961.jpg\n",
      "1-30-1280x720 10355 10356.jpg\n",
      "132 5659 05660.jpg\n",
      "12-24-1920x1080 5685 05686.jpg\n",
      "265 6719 06719.jpg\n",
      "367 4169 04169.jpg\n",
      "video4 1550 01541.jpg\n",
      "103-30-384x480 771 00772.jpg\n",
      "video76 4274 04159.jpg\n",
      "74-25-1920x1080 5041 05042.jpg\n",
      "20-24-1920x1080 5274 05275.jpg\n",
      "184 3790 03791.jpg\n",
      "231 4207 04208.jpg\n",
      "304 2693 02694.jpg\n",
      "video96 8046 08046.jpg\n",
      "130 4001 04002.jpg\n",
      "248 2267 02267.jpg\n",
      "380 2375 02375.jpg\n",
      "361 4602 04602.jpg\n",
      "video69 8622 08622.jpg\n",
      "230 3970 03970.jpg\n",
      "160 837 00838.jpg\n",
      "34-25-1920x1080 7757 07758.jpg\n",
      "297 3288 03288.jpg\n",
      "259 2393 02393.jpg\n",
      "125 4365 04366.jpg\n",
      "428 3229 03229.jpg\n",
      "262 4753 04753.jpg\n",
      "66-25-1080x1920 2913 02914.jpg\n",
      "271 2223 02224.jpg\n",
      "237 5434 05434.jpg\n",
      "video58 303 00293.jpg\n",
      "435 1950 01950.jpg\n",
      "441 2701 02701.jpg\n",
      "362 4912 04912.jpg\n",
      "121 4413 04414.jpg\n",
      "330 4568 04569.jpg\n",
      "327 4156 04155.jpg\n",
      "28-30-1280x720-3 276 00277.jpg\n",
      "video78 419 00419.jpg\n",
      "306 2296 02297.jpg\n",
      "88-30-360x480 3722 03702.jpg\n",
      "video80 419 00419.jpg\n",
      "13-30-1920x1080 7399 07400.jpg\n",
      "427 1222 01222.jpg\n",
      "139-14-720x480 10013 10014.jpg\n",
      "24-30-1920x1080-2 4172 04173.jpg\n",
      "86-24-1920x1080 4995 04987.jpg\n",
      "video32 2775 02758.jpg\n",
      "169 2862 02863.jpg\n",
      "287 1272 01273.jpg\n",
      "42-30-480x480 1394 01395.jpg\n",
      "321 3555 03555.jpg\n",
      "412 1473 01473.jpg\n",
      "281 7011 07011.jpg\n",
      "239 1964 01964.jpg\n",
      "127 8123 07988.jpg\n",
      "93-24-640x360 2581 02582.jpg\n",
      "video59 6702 06702.jpg\n",
      "69-25-854x480 18781 18782.jpg\n",
      "313 3139 03140.jpg\n",
      "136-30-1920x1080 7529 07482.jpg\n",
      "33-30-1920x1080 10806 10807.jpg\n",
      "68-24-1920x1080 7189 07190.jpg\n",
      "279 2212 02212.jpg\n",
      "156 4925 04926.jpg\n",
      "video95 10855 10855.jpg\n",
      "406 3066 03066.jpg\n",
      "308 4651 04651.jpg\n",
      "188 5986 05987.jpg\n",
      "67-24-640x360 3461 03462.jpg\n",
      "62-30-654x480 12033 12034.jpg\n",
      "122-60-1920x1080-2 7172 07173.jpg\n",
      "102 4777 04778.jpg\n",
      "420 3150 03150.jpg\n",
      "192 3598 03599.jpg\n",
      "video47 820 00812.jpg\n",
      "337 2806 02790.jpg\n",
      "video49 6121 06115.jpg\n",
      "433 4310 04311.jpg\n",
      "video17 21937 21938.jpg\n",
      "448 4157 04157.jpg\n",
      "325 3222 03222.jpg\n",
      "377 3444 03443.jpg\n",
      "249 2621 02621.jpg\n",
      "276 1583 01583.jpg\n",
      "383 2554 02554.jpg\n",
      "163 3937 03938.jpg\n",
      "164 7043 07044.jpg\n",
      "191 5248 05249.jpg\n",
      "193 3983 03984.jpg\n",
      "video45_2 1095 01096.jpg\n",
      "video18 3783 03784.jpg\n",
      "video71 11204 11204.jpg\n",
      "430 1834 01834.jpg\n",
      "242 7010 07010.jpg\n",
      "90-30-1080x1920 7413 07414.jpg\n",
      "video70 11868 11861.jpg\n",
      "video45_3 294 00295.jpg\n",
      "151 964 00965.jpg\n",
      "video79 4097 04086.jpg\n",
      "238 3012 03013.jpg\n",
      "178 5840 05841.jpg\n",
      "95-24-1920x1080 2883 02884.jpg\n",
      "video40 5876 05877.jpg\n",
      "311 1930 01930.jpg\n",
      "296 6486 06486.jpg\n",
      "150 13015 13016.jpg\n",
      "video28 8727 08728.jpg\n",
      "122-60-1920x1080-4 7683 07684.jpg\n",
      "272 3333 03333.jpg\n",
      "350 2015 02015.jpg\n",
      "216 457 00457.jpg\n",
      "108 4678 04680.jpg\n",
      "video57 8379 08331.jpg\n",
      "400 2640 02640.jpg\n",
      "344 4263 04263.jpg\n",
      "280 3945 03945.jpg\n",
      "139 8165 08166.jpg\n",
      "270 3937 03937.jpg\n"
     ]
    }
   ],
   "source": [
    "data_dir=os.path.join(DATA_DIR,'cropped')\n",
    "d=os.path.join(DATA_DIR,'videos')\n",
    "video2len={}\n",
    "for filename in os.listdir(d):\n",
    "    fn, ext = os.path.splitext(os.path.basename(filename))\n",
    "    vid=os.path.join(d,filename)\n",
    "    cap = cv2.VideoCapture(vid)\n",
    "    total_frames = int(cap.get(cv2.CAP_PROP_FRAME_COUNT))\n",
    "    video2len[fn]=total_frames+1 #FIX ME!!! NEED TO ADD 1 to teh number of frames for consistency with challeng's organizer\n",
    "    \n",
    "    dn=os.path.join(data_dir,fn)\n",
    "    last_img=''\n",
    "    if os.path.exists(dn):\n",
    "        images=[img_name for img_name in os.listdir(dn) if img_name.lower().endswith('.jpg')]\n",
    "        last_img=sorted(images, key=compare_filenames)[-1]\n",
    "    elif os.path.exists(dn+'_left'):\n",
    "        images=[img_name for img_name in os.listdir(dn+'_left') if img_name.lower().endswith('.jpg')]\n",
    "        last_img=sorted(images, key=compare_filenames)[-1]\n",
    "    print(fn,total_frames,last_img)\n",
    "        "
   ]
  },
  {
   "cell_type": "markdown",
   "metadata": {},
   "source": [
    "## Tensorflow"
   ]
  },
  {
   "cell_type": "code",
   "execution_count": 44,
   "metadata": {},
   "outputs": [],
   "source": [
    "from tensorflow.keras.applications import mobilenet\n",
    "from tensorflow.keras.models import load_model,Model"
   ]
  },
  {
   "cell_type": "code",
   "execution_count": 45,
   "metadata": {},
   "outputs": [],
   "source": [
    "def mobilenet_preprocess_input(x,**kwargs):\n",
    "    x[..., 0] -= 103.939\n",
    "    x[..., 1] -= 116.779\n",
    "    x[..., 2] -= 123.68\n",
    "    return x\n",
    "\n",
    "preprocessing_function=mobilenet_preprocess_input"
   ]
  },
  {
   "cell_type": "code",
   "execution_count": 46,
   "metadata": {},
   "outputs": [
    {
     "name": "stdout",
     "output_type": "stream",
     "text": [
      "WARNING:tensorflow:No training configuration found in the save file, so the model was *not* compiled. Compile it manually.\n",
      "224 224\n"
     ]
    }
   ],
   "source": [
    "#model_name='my_mobilenet_new1_ft_sgd'\n",
    "model_name='mymobilenet_7_ft_sgd_model'\n",
    "#model_name='age_gender_tf2_224_deep-03-0.13-0.97'\n",
    "#model_name='affectnet_orig_my_mobilenet_8_ft_60.575_model'\n",
    "num_classes=7\n",
    "\n",
    "base_model=load_model('../models/affectnet_emotions/'+model_name+'.h5')\n",
    "_,w,h,_=base_model.input.shape\n",
    "print(w,h)"
   ]
  },
  {
   "cell_type": "code",
   "execution_count": 10,
   "metadata": {},
   "outputs": [
    {
     "data": {
      "text/plain": [
       "[<KerasTensor: shape=(None, 1024) dtype=float32 (created by layer 'global_pooling')>,\n",
       " <KerasTensor: shape=(None, 256) dtype=float32 (created by layer 'feats')>,\n",
       " <KerasTensor: shape=(None, 7) dtype=float32 (created by layer 'emotion_preds')>]"
      ]
     },
     "execution_count": 10,
     "metadata": {},
     "output_type": "execute_result"
    }
   ],
   "source": [
    "feature_extractor_model=Model(base_model.input,[base_model.get_layer('global_pooling').output,base_model.get_layer('feats').output,base_model.output])\n",
    "feature_extractor_model.summary()\n",
    "print(feature_extractor_model.output)"
   ]
  },
  {
   "cell_type": "code",
   "execution_count": 11,
   "metadata": {},
   "outputs": [
    {
     "name": "stdout",
     "output_type": "stream",
     "text": [
      "(256, 7) (7,)\n"
     ]
    }
   ],
   "source": [
    "weights,bias=base_model.get_layer('emotion_preds').get_weights()\n",
    "print(weights.shape,bias.shape)\n",
    "\n",
    "def get_probab(features, logits=False):\n",
    "    x=np.dot(features,weights)+bias\n",
    "    if logits:\n",
    "        return x\n",
    "    #print(x)\n",
    "    e_x = np.exp(x - np.max(x,axis=0))\n",
    "    return e_x / e_x.sum(axis=1)[:,None]"
   ]
  },
  {
   "cell_type": "code",
   "execution_count": 19,
   "metadata": {},
   "outputs": [
    {
     "name": "stderr",
     "output_type": "stream",
     "text": [
      "\r",
      "  0%|          | 0/564 [00:00<?, ?it/s]"
     ]
    },
    {
     "name": "stdout",
     "output_type": "stream",
     "text": [
      "/home/HDD6TB/datasets/emotions/ABAW/faces\n"
     ]
    },
    {
     "name": "stderr",
     "output_type": "stream",
     "text": [
      "100%|██████████| 564/564 [5:04:48<00:00, 32.43s/it]    \n"
     ]
    },
    {
     "name": "stdout",
     "output_type": "stream",
     "text": [
      "2658563 (2658563, 1024) (2658563, 7)\n"
     ]
    }
   ],
   "source": [
    "#def get_features_scores(data_dir):\n",
    "data_dir=os.path.join(DATA_DIR,'cropped')\n",
    "print(data_dir)\n",
    "img_names=[]\n",
    "X_global_features,X_scores=[],[]\n",
    "imgs=[]\n",
    "for filename in tqdm(os.listdir(data_dir)):\n",
    "    frames_dir=os.path.join(data_dir,filename)\n",
    "    for img_name in os.listdir(frames_dir):\n",
    "        if img_name.lower().endswith('.jpg'):\n",
    "            img=cv2.imread(os.path.join(frames_dir,img_name))\n",
    "            if img.size:\n",
    "                img_names.append(filename+'/'+img_name)\n",
    "                img=cv2.resize(img,(w,h))\n",
    "                img = cv2.cvtColor(img,cv2.COLOR_BGR2RGB)\n",
    "                imgs.append(img)\n",
    "                if len(imgs)>=512:        \n",
    "                    inp = preprocessing_function(np.array(imgs, dtype=np.float32))\n",
    "                    global_features,feats,scores=feature_extractor_model.predict(inp)\n",
    "                    #print(global_features.shape,feats.shape,scores.shape)\n",
    "                    if len(X_scores)==0:\n",
    "                        X_global_features=global_features\n",
    "                        #X_global_features=feats\n",
    "                        X_scores=scores\n",
    "                    else:\n",
    "                        X_global_features=np.concatenate((X_global_features,global_features),axis=0)\n",
    "                        #X_global_features=np.concatenate((X_global_features,feats),axis=0)\n",
    "                        X_scores=np.concatenate((X_scores,scores),axis=0)\n",
    "                    imgs=[]\n",
    "\n",
    "if len(imgs)>0:        \n",
    "    inp = preprocessing_function(np.array(imgs, dtype=np.float32))\n",
    "    global_features,feats,scores=feature_extractor_model.predict(inp)\n",
    "    #print(global_features.shape,feats.shape,scores.shape)\n",
    "    if len(X_scores)==0:\n",
    "        X_global_features=global_features\n",
    "        #X_global_features=feats\n",
    "        X_scores=scores\n",
    "    else:\n",
    "        X_global_features=np.concatenate((X_global_features,global_features),axis=0)\n",
    "        #X_global_features=np.concatenate((X_global_features,feats),axis=0)\n",
    "        X_scores=np.concatenate((X_scores,scores),axis=0)\n",
    "\n",
    "print(len(img_names),X_global_features.shape,X_scores.shape)"
   ]
  },
  {
   "cell_type": "code",
   "execution_count": 30,
   "metadata": {},
   "outputs": [
    {
     "name": "stdout",
     "output_type": "stream",
     "text": [
      "2658563\n"
     ]
    }
   ],
   "source": [
    "filename2featuresAll={img_name:(global_features,scores) for img_name,global_features,scores in zip(img_names,X_global_features,X_scores)}\n",
    "print(len(filename2featuresAll))"
   ]
  },
  {
   "cell_type": "markdown",
   "metadata": {},
   "source": [
    "## PyTorch"
   ]
  },
  {
   "cell_type": "code",
   "execution_count": 7,
   "metadata": {},
   "outputs": [
    {
     "name": "stdout",
     "output_type": "stream",
     "text": [
      "Torch: 1.7.1+cu110\n",
      "True\n"
     ]
    }
   ],
   "source": [
    "import glob\n",
    "from itertools import chain\n",
    "import os\n",
    "import random\n",
    "import zipfile\n",
    "\n",
    "import matplotlib.pyplot as plt\n",
    "import numpy as np\n",
    "import pandas as pd\n",
    "import torch\n",
    "import torch.nn as nn\n",
    "import torch.nn.functional as F\n",
    "import torch.optim as optim\n",
    "from PIL import Image\n",
    "from sklearn.model_selection import train_test_split\n",
    "from torch.optim.lr_scheduler import StepLR\n",
    "from torch.utils.data import DataLoader, Dataset\n",
    "from torchvision import datasets, transforms\n",
    "from tqdm.notebook import tqdm\n",
    "\n",
    "print(f\"Torch: {torch.__version__}\")\n",
    "device = 'cuda'\n",
    "use_cuda = torch.cuda.is_available()\n",
    "print(use_cuda)"
   ]
  },
  {
   "cell_type": "code",
   "execution_count": 10,
   "metadata": {},
   "outputs": [
    {
     "name": "stdout",
     "output_type": "stream",
     "text": [
      "enet_b2_8.pt\n"
     ]
    }
   ],
   "source": [
    "#num_classes=7\n",
    "if True:\n",
    "    #PATH='affectnet_vggface2_enet2_gmp_smooth.pt'\n",
    "    PATH='enet_b2_8.pt'\n",
    "    #PATH='enet_b2_7.pt'\n",
    "    IMG_SIZE=260 #224 #\n",
    "else:\n",
    "    #PATH='affectnet_vggface2_enet0.pt'\n",
    "    #PATH='affectnet_vggface2_enet0_new.pt'\n",
    "    #PATH='enet_b0_7.pt'\n",
    "    #PATH='enet_b0_8_best_afew.pt'\n",
    "    PATH='enet_b0_8_best_vgaf.pt'\n",
    "    IMG_SIZE=224\n",
    "\n",
    "test_transforms = transforms.Compose(\n",
    "    [\n",
    "        transforms.Resize((IMG_SIZE,IMG_SIZE)),\n",
    "        #transforms.RandomHorizontalFlip(),\n",
    "        transforms.ToTensor(),\n",
    "        transforms.Normalize(mean=[0.485, 0.456, 0.406],\n",
    "                                     std=[0.229, 0.224, 0.225])\n",
    "    ]\n",
    ")\n",
    "np_transforms = transforms.Compose(\n",
    "    [\n",
    "        transforms.ToPILImage(None),\n",
    "        transforms.Resize((IMG_SIZE,IMG_SIZE)),\n",
    "        #transforms.RandomHorizontalFlip(),\n",
    "        transforms.ToTensor(),\n",
    "        transforms.Normalize(mean=[0.485, 0.456, 0.406],\n",
    "                                     std=[0.229, 0.224, 0.225])\n",
    "    ]\n",
    ")\n",
    "\n",
    "print(PATH)\n",
    "feature_extractor_model = torch.load('../models/affectnet_emotions/'+PATH)"
   ]
  },
  {
   "cell_type": "code",
   "execution_count": 11,
   "metadata": {},
   "outputs": [
    {
     "name": "stdout",
     "output_type": "stream",
     "text": [
      "(8, 1408) [[-0.08584318 -0.01135117  0.01391132 ...  0.05151795  0.04111349\n",
      "  -0.03133564]\n",
      " [ 0.05045482  0.0124158   0.01706044 ...  0.00231916  0.03906726\n",
      "   0.01346489]\n",
      " [-0.04731339  0.01440803 -0.02087102 ...  0.03216076 -0.00023583\n",
      "   0.03391237]\n",
      " ...\n",
      " [-0.0733668  -0.02527069  0.01091044 ...  0.00450477 -0.02584679\n",
      "   0.02445539]\n",
      " [ 0.00541873 -0.01534162 -0.02201885 ...  0.03147097  0.04480692\n",
      "   0.04357051]\n",
      " [ 0.04042469 -0.01425645 -0.00016433 ... -0.03822443 -0.03345024\n",
      "  -0.02694497]]\n",
      "(8,) [-0.02906979  0.03788731  0.02125058  0.02583097 -0.04595341 -0.01233763\n",
      " -0.01429024 -0.02879   ]\n"
     ]
    }
   ],
   "source": [
    "if False:\n",
    "    classifier_weights=feature_extractor_model.classifier[0].weight.cpu().data.numpy()\n",
    "    classifier_bias=feature_extractor_model.classifier[0].bias.cpu().data.numpy()\n",
    "else:\n",
    "    classifier_weights=feature_extractor_model.classifier.weight.cpu().data.numpy()\n",
    "    classifier_bias=feature_extractor_model.classifier.bias.cpu().data.numpy()\n",
    "print(classifier_weights.shape,classifier_weights)\n",
    "print(classifier_bias.shape,classifier_bias)"
   ]
  },
  {
   "cell_type": "code",
   "execution_count": 12,
   "metadata": {},
   "outputs": [
    {
     "data": {
      "text/plain": [
       "EfficientNet(\n",
       "  (conv_stem): Conv2dSame(3, 32, kernel_size=(3, 3), stride=(2, 2), bias=False)\n",
       "  (bn1): BatchNorm2d(32, eps=0.001, momentum=0.1, affine=True, track_running_stats=True)\n",
       "  (act1): SiLU(inplace=True)\n",
       "  (blocks): Sequential(\n",
       "    (0): Sequential(\n",
       "      (0): DepthwiseSeparableConv(\n",
       "        (conv_dw): Conv2d(32, 32, kernel_size=(3, 3), stride=(1, 1), padding=(1, 1), groups=32, bias=False)\n",
       "        (bn1): BatchNorm2d(32, eps=0.001, momentum=0.1, affine=True, track_running_stats=True)\n",
       "        (act1): SiLU(inplace=True)\n",
       "        (se): SqueezeExcite(\n",
       "          (conv_reduce): Conv2d(32, 8, kernel_size=(1, 1), stride=(1, 1))\n",
       "          (act1): SiLU(inplace=True)\n",
       "          (conv_expand): Conv2d(8, 32, kernel_size=(1, 1), stride=(1, 1))\n",
       "        )\n",
       "        (conv_pw): Conv2d(32, 16, kernel_size=(1, 1), stride=(1, 1), bias=False)\n",
       "        (bn2): BatchNorm2d(16, eps=0.001, momentum=0.1, affine=True, track_running_stats=True)\n",
       "        (act2): Identity()\n",
       "      )\n",
       "      (1): DepthwiseSeparableConv(\n",
       "        (conv_dw): Conv2d(16, 16, kernel_size=(3, 3), stride=(1, 1), padding=(1, 1), groups=16, bias=False)\n",
       "        (bn1): BatchNorm2d(16, eps=0.001, momentum=0.1, affine=True, track_running_stats=True)\n",
       "        (act1): SiLU(inplace=True)\n",
       "        (se): SqueezeExcite(\n",
       "          (conv_reduce): Conv2d(16, 4, kernel_size=(1, 1), stride=(1, 1))\n",
       "          (act1): SiLU(inplace=True)\n",
       "          (conv_expand): Conv2d(4, 16, kernel_size=(1, 1), stride=(1, 1))\n",
       "        )\n",
       "        (conv_pw): Conv2d(16, 16, kernel_size=(1, 1), stride=(1, 1), bias=False)\n",
       "        (bn2): BatchNorm2d(16, eps=0.001, momentum=0.1, affine=True, track_running_stats=True)\n",
       "        (act2): Identity()\n",
       "      )\n",
       "    )\n",
       "    (1): Sequential(\n",
       "      (0): InvertedResidual(\n",
       "        (conv_pw): Conv2d(16, 96, kernel_size=(1, 1), stride=(1, 1), bias=False)\n",
       "        (bn1): BatchNorm2d(96, eps=0.001, momentum=0.1, affine=True, track_running_stats=True)\n",
       "        (act1): SiLU(inplace=True)\n",
       "        (conv_dw): Conv2dSame(96, 96, kernel_size=(3, 3), stride=(2, 2), groups=96, bias=False)\n",
       "        (bn2): BatchNorm2d(96, eps=0.001, momentum=0.1, affine=True, track_running_stats=True)\n",
       "        (act2): SiLU(inplace=True)\n",
       "        (se): SqueezeExcite(\n",
       "          (conv_reduce): Conv2d(96, 4, kernel_size=(1, 1), stride=(1, 1))\n",
       "          (act1): SiLU(inplace=True)\n",
       "          (conv_expand): Conv2d(4, 96, kernel_size=(1, 1), stride=(1, 1))\n",
       "        )\n",
       "        (conv_pwl): Conv2d(96, 24, kernel_size=(1, 1), stride=(1, 1), bias=False)\n",
       "        (bn3): BatchNorm2d(24, eps=0.001, momentum=0.1, affine=True, track_running_stats=True)\n",
       "      )\n",
       "      (1): InvertedResidual(\n",
       "        (conv_pw): Conv2d(24, 144, kernel_size=(1, 1), stride=(1, 1), bias=False)\n",
       "        (bn1): BatchNorm2d(144, eps=0.001, momentum=0.1, affine=True, track_running_stats=True)\n",
       "        (act1): SiLU(inplace=True)\n",
       "        (conv_dw): Conv2d(144, 144, kernel_size=(3, 3), stride=(1, 1), padding=(1, 1), groups=144, bias=False)\n",
       "        (bn2): BatchNorm2d(144, eps=0.001, momentum=0.1, affine=True, track_running_stats=True)\n",
       "        (act2): SiLU(inplace=True)\n",
       "        (se): SqueezeExcite(\n",
       "          (conv_reduce): Conv2d(144, 6, kernel_size=(1, 1), stride=(1, 1))\n",
       "          (act1): SiLU(inplace=True)\n",
       "          (conv_expand): Conv2d(6, 144, kernel_size=(1, 1), stride=(1, 1))\n",
       "        )\n",
       "        (conv_pwl): Conv2d(144, 24, kernel_size=(1, 1), stride=(1, 1), bias=False)\n",
       "        (bn3): BatchNorm2d(24, eps=0.001, momentum=0.1, affine=True, track_running_stats=True)\n",
       "      )\n",
       "      (2): InvertedResidual(\n",
       "        (conv_pw): Conv2d(24, 144, kernel_size=(1, 1), stride=(1, 1), bias=False)\n",
       "        (bn1): BatchNorm2d(144, eps=0.001, momentum=0.1, affine=True, track_running_stats=True)\n",
       "        (act1): SiLU(inplace=True)\n",
       "        (conv_dw): Conv2d(144, 144, kernel_size=(3, 3), stride=(1, 1), padding=(1, 1), groups=144, bias=False)\n",
       "        (bn2): BatchNorm2d(144, eps=0.001, momentum=0.1, affine=True, track_running_stats=True)\n",
       "        (act2): SiLU(inplace=True)\n",
       "        (se): SqueezeExcite(\n",
       "          (conv_reduce): Conv2d(144, 6, kernel_size=(1, 1), stride=(1, 1))\n",
       "          (act1): SiLU(inplace=True)\n",
       "          (conv_expand): Conv2d(6, 144, kernel_size=(1, 1), stride=(1, 1))\n",
       "        )\n",
       "        (conv_pwl): Conv2d(144, 24, kernel_size=(1, 1), stride=(1, 1), bias=False)\n",
       "        (bn3): BatchNorm2d(24, eps=0.001, momentum=0.1, affine=True, track_running_stats=True)\n",
       "      )\n",
       "    )\n",
       "    (2): Sequential(\n",
       "      (0): InvertedResidual(\n",
       "        (conv_pw): Conv2d(24, 144, kernel_size=(1, 1), stride=(1, 1), bias=False)\n",
       "        (bn1): BatchNorm2d(144, eps=0.001, momentum=0.1, affine=True, track_running_stats=True)\n",
       "        (act1): SiLU(inplace=True)\n",
       "        (conv_dw): Conv2dSame(144, 144, kernel_size=(5, 5), stride=(2, 2), groups=144, bias=False)\n",
       "        (bn2): BatchNorm2d(144, eps=0.001, momentum=0.1, affine=True, track_running_stats=True)\n",
       "        (act2): SiLU(inplace=True)\n",
       "        (se): SqueezeExcite(\n",
       "          (conv_reduce): Conv2d(144, 6, kernel_size=(1, 1), stride=(1, 1))\n",
       "          (act1): SiLU(inplace=True)\n",
       "          (conv_expand): Conv2d(6, 144, kernel_size=(1, 1), stride=(1, 1))\n",
       "        )\n",
       "        (conv_pwl): Conv2d(144, 48, kernel_size=(1, 1), stride=(1, 1), bias=False)\n",
       "        (bn3): BatchNorm2d(48, eps=0.001, momentum=0.1, affine=True, track_running_stats=True)\n",
       "      )\n",
       "      (1): InvertedResidual(\n",
       "        (conv_pw): Conv2d(48, 288, kernel_size=(1, 1), stride=(1, 1), bias=False)\n",
       "        (bn1): BatchNorm2d(288, eps=0.001, momentum=0.1, affine=True, track_running_stats=True)\n",
       "        (act1): SiLU(inplace=True)\n",
       "        (conv_dw): Conv2d(288, 288, kernel_size=(5, 5), stride=(1, 1), padding=(2, 2), groups=288, bias=False)\n",
       "        (bn2): BatchNorm2d(288, eps=0.001, momentum=0.1, affine=True, track_running_stats=True)\n",
       "        (act2): SiLU(inplace=True)\n",
       "        (se): SqueezeExcite(\n",
       "          (conv_reduce): Conv2d(288, 12, kernel_size=(1, 1), stride=(1, 1))\n",
       "          (act1): SiLU(inplace=True)\n",
       "          (conv_expand): Conv2d(12, 288, kernel_size=(1, 1), stride=(1, 1))\n",
       "        )\n",
       "        (conv_pwl): Conv2d(288, 48, kernel_size=(1, 1), stride=(1, 1), bias=False)\n",
       "        (bn3): BatchNorm2d(48, eps=0.001, momentum=0.1, affine=True, track_running_stats=True)\n",
       "      )\n",
       "      (2): InvertedResidual(\n",
       "        (conv_pw): Conv2d(48, 288, kernel_size=(1, 1), stride=(1, 1), bias=False)\n",
       "        (bn1): BatchNorm2d(288, eps=0.001, momentum=0.1, affine=True, track_running_stats=True)\n",
       "        (act1): SiLU(inplace=True)\n",
       "        (conv_dw): Conv2d(288, 288, kernel_size=(5, 5), stride=(1, 1), padding=(2, 2), groups=288, bias=False)\n",
       "        (bn2): BatchNorm2d(288, eps=0.001, momentum=0.1, affine=True, track_running_stats=True)\n",
       "        (act2): SiLU(inplace=True)\n",
       "        (se): SqueezeExcite(\n",
       "          (conv_reduce): Conv2d(288, 12, kernel_size=(1, 1), stride=(1, 1))\n",
       "          (act1): SiLU(inplace=True)\n",
       "          (conv_expand): Conv2d(12, 288, kernel_size=(1, 1), stride=(1, 1))\n",
       "        )\n",
       "        (conv_pwl): Conv2d(288, 48, kernel_size=(1, 1), stride=(1, 1), bias=False)\n",
       "        (bn3): BatchNorm2d(48, eps=0.001, momentum=0.1, affine=True, track_running_stats=True)\n",
       "      )\n",
       "    )\n",
       "    (3): Sequential(\n",
       "      (0): InvertedResidual(\n",
       "        (conv_pw): Conv2d(48, 288, kernel_size=(1, 1), stride=(1, 1), bias=False)\n",
       "        (bn1): BatchNorm2d(288, eps=0.001, momentum=0.1, affine=True, track_running_stats=True)\n",
       "        (act1): SiLU(inplace=True)\n",
       "        (conv_dw): Conv2dSame(288, 288, kernel_size=(3, 3), stride=(2, 2), groups=288, bias=False)\n",
       "        (bn2): BatchNorm2d(288, eps=0.001, momentum=0.1, affine=True, track_running_stats=True)\n",
       "        (act2): SiLU(inplace=True)\n",
       "        (se): SqueezeExcite(\n",
       "          (conv_reduce): Conv2d(288, 12, kernel_size=(1, 1), stride=(1, 1))\n",
       "          (act1): SiLU(inplace=True)\n",
       "          (conv_expand): Conv2d(12, 288, kernel_size=(1, 1), stride=(1, 1))\n",
       "        )\n",
       "        (conv_pwl): Conv2d(288, 88, kernel_size=(1, 1), stride=(1, 1), bias=False)\n",
       "        (bn3): BatchNorm2d(88, eps=0.001, momentum=0.1, affine=True, track_running_stats=True)\n",
       "      )\n",
       "      (1): InvertedResidual(\n",
       "        (conv_pw): Conv2d(88, 528, kernel_size=(1, 1), stride=(1, 1), bias=False)\n",
       "        (bn1): BatchNorm2d(528, eps=0.001, momentum=0.1, affine=True, track_running_stats=True)\n",
       "        (act1): SiLU(inplace=True)\n",
       "        (conv_dw): Conv2d(528, 528, kernel_size=(3, 3), stride=(1, 1), padding=(1, 1), groups=528, bias=False)\n",
       "        (bn2): BatchNorm2d(528, eps=0.001, momentum=0.1, affine=True, track_running_stats=True)\n",
       "        (act2): SiLU(inplace=True)\n",
       "        (se): SqueezeExcite(\n",
       "          (conv_reduce): Conv2d(528, 22, kernel_size=(1, 1), stride=(1, 1))\n",
       "          (act1): SiLU(inplace=True)\n",
       "          (conv_expand): Conv2d(22, 528, kernel_size=(1, 1), stride=(1, 1))\n",
       "        )\n",
       "        (conv_pwl): Conv2d(528, 88, kernel_size=(1, 1), stride=(1, 1), bias=False)\n",
       "        (bn3): BatchNorm2d(88, eps=0.001, momentum=0.1, affine=True, track_running_stats=True)\n",
       "      )\n",
       "      (2): InvertedResidual(\n",
       "        (conv_pw): Conv2d(88, 528, kernel_size=(1, 1), stride=(1, 1), bias=False)\n",
       "        (bn1): BatchNorm2d(528, eps=0.001, momentum=0.1, affine=True, track_running_stats=True)\n",
       "        (act1): SiLU(inplace=True)\n",
       "        (conv_dw): Conv2d(528, 528, kernel_size=(3, 3), stride=(1, 1), padding=(1, 1), groups=528, bias=False)\n",
       "        (bn2): BatchNorm2d(528, eps=0.001, momentum=0.1, affine=True, track_running_stats=True)\n",
       "        (act2): SiLU(inplace=True)\n",
       "        (se): SqueezeExcite(\n",
       "          (conv_reduce): Conv2d(528, 22, kernel_size=(1, 1), stride=(1, 1))\n",
       "          (act1): SiLU(inplace=True)\n",
       "          (conv_expand): Conv2d(22, 528, kernel_size=(1, 1), stride=(1, 1))\n",
       "        )\n",
       "        (conv_pwl): Conv2d(528, 88, kernel_size=(1, 1), stride=(1, 1), bias=False)\n",
       "        (bn3): BatchNorm2d(88, eps=0.001, momentum=0.1, affine=True, track_running_stats=True)\n",
       "      )\n",
       "      (3): InvertedResidual(\n",
       "        (conv_pw): Conv2d(88, 528, kernel_size=(1, 1), stride=(1, 1), bias=False)\n",
       "        (bn1): BatchNorm2d(528, eps=0.001, momentum=0.1, affine=True, track_running_stats=True)\n",
       "        (act1): SiLU(inplace=True)\n",
       "        (conv_dw): Conv2d(528, 528, kernel_size=(3, 3), stride=(1, 1), padding=(1, 1), groups=528, bias=False)\n",
       "        (bn2): BatchNorm2d(528, eps=0.001, momentum=0.1, affine=True, track_running_stats=True)\n",
       "        (act2): SiLU(inplace=True)\n",
       "        (se): SqueezeExcite(\n",
       "          (conv_reduce): Conv2d(528, 22, kernel_size=(1, 1), stride=(1, 1))\n",
       "          (act1): SiLU(inplace=True)\n",
       "          (conv_expand): Conv2d(22, 528, kernel_size=(1, 1), stride=(1, 1))\n",
       "        )\n",
       "        (conv_pwl): Conv2d(528, 88, kernel_size=(1, 1), stride=(1, 1), bias=False)\n",
       "        (bn3): BatchNorm2d(88, eps=0.001, momentum=0.1, affine=True, track_running_stats=True)\n",
       "      )\n",
       "    )\n",
       "    (4): Sequential(\n",
       "      (0): InvertedResidual(\n",
       "        (conv_pw): Conv2d(88, 528, kernel_size=(1, 1), stride=(1, 1), bias=False)\n",
       "        (bn1): BatchNorm2d(528, eps=0.001, momentum=0.1, affine=True, track_running_stats=True)\n",
       "        (act1): SiLU(inplace=True)\n",
       "        (conv_dw): Conv2d(528, 528, kernel_size=(5, 5), stride=(1, 1), padding=(2, 2), groups=528, bias=False)\n",
       "        (bn2): BatchNorm2d(528, eps=0.001, momentum=0.1, affine=True, track_running_stats=True)\n",
       "        (act2): SiLU(inplace=True)\n",
       "        (se): SqueezeExcite(\n",
       "          (conv_reduce): Conv2d(528, 22, kernel_size=(1, 1), stride=(1, 1))\n",
       "          (act1): SiLU(inplace=True)\n",
       "          (conv_expand): Conv2d(22, 528, kernel_size=(1, 1), stride=(1, 1))\n",
       "        )\n",
       "        (conv_pwl): Conv2d(528, 120, kernel_size=(1, 1), stride=(1, 1), bias=False)\n",
       "        (bn3): BatchNorm2d(120, eps=0.001, momentum=0.1, affine=True, track_running_stats=True)\n",
       "      )\n",
       "      (1): InvertedResidual(\n",
       "        (conv_pw): Conv2d(120, 720, kernel_size=(1, 1), stride=(1, 1), bias=False)\n",
       "        (bn1): BatchNorm2d(720, eps=0.001, momentum=0.1, affine=True, track_running_stats=True)\n",
       "        (act1): SiLU(inplace=True)\n",
       "        (conv_dw): Conv2d(720, 720, kernel_size=(5, 5), stride=(1, 1), padding=(2, 2), groups=720, bias=False)\n",
       "        (bn2): BatchNorm2d(720, eps=0.001, momentum=0.1, affine=True, track_running_stats=True)\n",
       "        (act2): SiLU(inplace=True)\n",
       "        (se): SqueezeExcite(\n",
       "          (conv_reduce): Conv2d(720, 30, kernel_size=(1, 1), stride=(1, 1))\n",
       "          (act1): SiLU(inplace=True)\n",
       "          (conv_expand): Conv2d(30, 720, kernel_size=(1, 1), stride=(1, 1))\n",
       "        )\n",
       "        (conv_pwl): Conv2d(720, 120, kernel_size=(1, 1), stride=(1, 1), bias=False)\n",
       "        (bn3): BatchNorm2d(120, eps=0.001, momentum=0.1, affine=True, track_running_stats=True)\n",
       "      )\n",
       "      (2): InvertedResidual(\n",
       "        (conv_pw): Conv2d(120, 720, kernel_size=(1, 1), stride=(1, 1), bias=False)\n",
       "        (bn1): BatchNorm2d(720, eps=0.001, momentum=0.1, affine=True, track_running_stats=True)\n",
       "        (act1): SiLU(inplace=True)\n",
       "        (conv_dw): Conv2d(720, 720, kernel_size=(5, 5), stride=(1, 1), padding=(2, 2), groups=720, bias=False)\n",
       "        (bn2): BatchNorm2d(720, eps=0.001, momentum=0.1, affine=True, track_running_stats=True)\n",
       "        (act2): SiLU(inplace=True)\n",
       "        (se): SqueezeExcite(\n",
       "          (conv_reduce): Conv2d(720, 30, kernel_size=(1, 1), stride=(1, 1))\n",
       "          (act1): SiLU(inplace=True)\n",
       "          (conv_expand): Conv2d(30, 720, kernel_size=(1, 1), stride=(1, 1))\n",
       "        )\n",
       "        (conv_pwl): Conv2d(720, 120, kernel_size=(1, 1), stride=(1, 1), bias=False)\n",
       "        (bn3): BatchNorm2d(120, eps=0.001, momentum=0.1, affine=True, track_running_stats=True)\n",
       "      )\n",
       "      (3): InvertedResidual(\n",
       "        (conv_pw): Conv2d(120, 720, kernel_size=(1, 1), stride=(1, 1), bias=False)\n",
       "        (bn1): BatchNorm2d(720, eps=0.001, momentum=0.1, affine=True, track_running_stats=True)\n",
       "        (act1): SiLU(inplace=True)\n",
       "        (conv_dw): Conv2d(720, 720, kernel_size=(5, 5), stride=(1, 1), padding=(2, 2), groups=720, bias=False)\n",
       "        (bn2): BatchNorm2d(720, eps=0.001, momentum=0.1, affine=True, track_running_stats=True)\n",
       "        (act2): SiLU(inplace=True)\n",
       "        (se): SqueezeExcite(\n",
       "          (conv_reduce): Conv2d(720, 30, kernel_size=(1, 1), stride=(1, 1))\n",
       "          (act1): SiLU(inplace=True)\n",
       "          (conv_expand): Conv2d(30, 720, kernel_size=(1, 1), stride=(1, 1))\n",
       "        )\n",
       "        (conv_pwl): Conv2d(720, 120, kernel_size=(1, 1), stride=(1, 1), bias=False)\n",
       "        (bn3): BatchNorm2d(120, eps=0.001, momentum=0.1, affine=True, track_running_stats=True)\n",
       "      )\n",
       "    )\n",
       "    (5): Sequential(\n",
       "      (0): InvertedResidual(\n",
       "        (conv_pw): Conv2d(120, 720, kernel_size=(1, 1), stride=(1, 1), bias=False)\n",
       "        (bn1): BatchNorm2d(720, eps=0.001, momentum=0.1, affine=True, track_running_stats=True)\n",
       "        (act1): SiLU(inplace=True)\n",
       "        (conv_dw): Conv2dSame(720, 720, kernel_size=(5, 5), stride=(2, 2), groups=720, bias=False)\n",
       "        (bn2): BatchNorm2d(720, eps=0.001, momentum=0.1, affine=True, track_running_stats=True)\n",
       "        (act2): SiLU(inplace=True)\n",
       "        (se): SqueezeExcite(\n",
       "          (conv_reduce): Conv2d(720, 30, kernel_size=(1, 1), stride=(1, 1))\n",
       "          (act1): SiLU(inplace=True)\n",
       "          (conv_expand): Conv2d(30, 720, kernel_size=(1, 1), stride=(1, 1))\n",
       "        )\n",
       "        (conv_pwl): Conv2d(720, 208, kernel_size=(1, 1), stride=(1, 1), bias=False)\n",
       "        (bn3): BatchNorm2d(208, eps=0.001, momentum=0.1, affine=True, track_running_stats=True)\n",
       "      )\n",
       "      (1): InvertedResidual(\n",
       "        (conv_pw): Conv2d(208, 1248, kernel_size=(1, 1), stride=(1, 1), bias=False)\n",
       "        (bn1): BatchNorm2d(1248, eps=0.001, momentum=0.1, affine=True, track_running_stats=True)\n",
       "        (act1): SiLU(inplace=True)\n",
       "        (conv_dw): Conv2d(1248, 1248, kernel_size=(5, 5), stride=(1, 1), padding=(2, 2), groups=1248, bias=False)\n",
       "        (bn2): BatchNorm2d(1248, eps=0.001, momentum=0.1, affine=True, track_running_stats=True)\n",
       "        (act2): SiLU(inplace=True)\n",
       "        (se): SqueezeExcite(\n",
       "          (conv_reduce): Conv2d(1248, 52, kernel_size=(1, 1), stride=(1, 1))\n",
       "          (act1): SiLU(inplace=True)\n",
       "          (conv_expand): Conv2d(52, 1248, kernel_size=(1, 1), stride=(1, 1))\n",
       "        )\n",
       "        (conv_pwl): Conv2d(1248, 208, kernel_size=(1, 1), stride=(1, 1), bias=False)\n",
       "        (bn3): BatchNorm2d(208, eps=0.001, momentum=0.1, affine=True, track_running_stats=True)\n",
       "      )\n",
       "      (2): InvertedResidual(\n",
       "        (conv_pw): Conv2d(208, 1248, kernel_size=(1, 1), stride=(1, 1), bias=False)\n",
       "        (bn1): BatchNorm2d(1248, eps=0.001, momentum=0.1, affine=True, track_running_stats=True)\n",
       "        (act1): SiLU(inplace=True)\n",
       "        (conv_dw): Conv2d(1248, 1248, kernel_size=(5, 5), stride=(1, 1), padding=(2, 2), groups=1248, bias=False)\n",
       "        (bn2): BatchNorm2d(1248, eps=0.001, momentum=0.1, affine=True, track_running_stats=True)\n",
       "        (act2): SiLU(inplace=True)\n",
       "        (se): SqueezeExcite(\n",
       "          (conv_reduce): Conv2d(1248, 52, kernel_size=(1, 1), stride=(1, 1))\n",
       "          (act1): SiLU(inplace=True)\n",
       "          (conv_expand): Conv2d(52, 1248, kernel_size=(1, 1), stride=(1, 1))\n",
       "        )\n",
       "        (conv_pwl): Conv2d(1248, 208, kernel_size=(1, 1), stride=(1, 1), bias=False)\n",
       "        (bn3): BatchNorm2d(208, eps=0.001, momentum=0.1, affine=True, track_running_stats=True)\n",
       "      )\n",
       "      (3): InvertedResidual(\n",
       "        (conv_pw): Conv2d(208, 1248, kernel_size=(1, 1), stride=(1, 1), bias=False)\n",
       "        (bn1): BatchNorm2d(1248, eps=0.001, momentum=0.1, affine=True, track_running_stats=True)\n",
       "        (act1): SiLU(inplace=True)\n",
       "        (conv_dw): Conv2d(1248, 1248, kernel_size=(5, 5), stride=(1, 1), padding=(2, 2), groups=1248, bias=False)\n",
       "        (bn2): BatchNorm2d(1248, eps=0.001, momentum=0.1, affine=True, track_running_stats=True)\n",
       "        (act2): SiLU(inplace=True)\n",
       "        (se): SqueezeExcite(\n",
       "          (conv_reduce): Conv2d(1248, 52, kernel_size=(1, 1), stride=(1, 1))\n",
       "          (act1): SiLU(inplace=True)\n",
       "          (conv_expand): Conv2d(52, 1248, kernel_size=(1, 1), stride=(1, 1))\n",
       "        )\n",
       "        (conv_pwl): Conv2d(1248, 208, kernel_size=(1, 1), stride=(1, 1), bias=False)\n",
       "        (bn3): BatchNorm2d(208, eps=0.001, momentum=0.1, affine=True, track_running_stats=True)\n",
       "      )\n",
       "      (4): InvertedResidual(\n",
       "        (conv_pw): Conv2d(208, 1248, kernel_size=(1, 1), stride=(1, 1), bias=False)\n",
       "        (bn1): BatchNorm2d(1248, eps=0.001, momentum=0.1, affine=True, track_running_stats=True)\n",
       "        (act1): SiLU(inplace=True)\n",
       "        (conv_dw): Conv2d(1248, 1248, kernel_size=(5, 5), stride=(1, 1), padding=(2, 2), groups=1248, bias=False)\n",
       "        (bn2): BatchNorm2d(1248, eps=0.001, momentum=0.1, affine=True, track_running_stats=True)\n",
       "        (act2): SiLU(inplace=True)\n",
       "        (se): SqueezeExcite(\n",
       "          (conv_reduce): Conv2d(1248, 52, kernel_size=(1, 1), stride=(1, 1))\n",
       "          (act1): SiLU(inplace=True)\n",
       "          (conv_expand): Conv2d(52, 1248, kernel_size=(1, 1), stride=(1, 1))\n",
       "        )\n",
       "        (conv_pwl): Conv2d(1248, 208, kernel_size=(1, 1), stride=(1, 1), bias=False)\n",
       "        (bn3): BatchNorm2d(208, eps=0.001, momentum=0.1, affine=True, track_running_stats=True)\n",
       "      )\n",
       "    )\n",
       "    (6): Sequential(\n",
       "      (0): InvertedResidual(\n",
       "        (conv_pw): Conv2d(208, 1248, kernel_size=(1, 1), stride=(1, 1), bias=False)\n",
       "        (bn1): BatchNorm2d(1248, eps=0.001, momentum=0.1, affine=True, track_running_stats=True)\n",
       "        (act1): SiLU(inplace=True)\n",
       "        (conv_dw): Conv2d(1248, 1248, kernel_size=(3, 3), stride=(1, 1), padding=(1, 1), groups=1248, bias=False)\n",
       "        (bn2): BatchNorm2d(1248, eps=0.001, momentum=0.1, affine=True, track_running_stats=True)\n",
       "        (act2): SiLU(inplace=True)\n",
       "        (se): SqueezeExcite(\n",
       "          (conv_reduce): Conv2d(1248, 52, kernel_size=(1, 1), stride=(1, 1))\n",
       "          (act1): SiLU(inplace=True)\n",
       "          (conv_expand): Conv2d(52, 1248, kernel_size=(1, 1), stride=(1, 1))\n",
       "        )\n",
       "        (conv_pwl): Conv2d(1248, 352, kernel_size=(1, 1), stride=(1, 1), bias=False)\n",
       "        (bn3): BatchNorm2d(352, eps=0.001, momentum=0.1, affine=True, track_running_stats=True)\n",
       "      )\n",
       "      (1): InvertedResidual(\n",
       "        (conv_pw): Conv2d(352, 2112, kernel_size=(1, 1), stride=(1, 1), bias=False)\n",
       "        (bn1): BatchNorm2d(2112, eps=0.001, momentum=0.1, affine=True, track_running_stats=True)\n",
       "        (act1): SiLU(inplace=True)\n",
       "        (conv_dw): Conv2d(2112, 2112, kernel_size=(3, 3), stride=(1, 1), padding=(1, 1), groups=2112, bias=False)\n",
       "        (bn2): BatchNorm2d(2112, eps=0.001, momentum=0.1, affine=True, track_running_stats=True)\n",
       "        (act2): SiLU(inplace=True)\n",
       "        (se): SqueezeExcite(\n",
       "          (conv_reduce): Conv2d(2112, 88, kernel_size=(1, 1), stride=(1, 1))\n",
       "          (act1): SiLU(inplace=True)\n",
       "          (conv_expand): Conv2d(88, 2112, kernel_size=(1, 1), stride=(1, 1))\n",
       "        )\n",
       "        (conv_pwl): Conv2d(2112, 352, kernel_size=(1, 1), stride=(1, 1), bias=False)\n",
       "        (bn3): BatchNorm2d(352, eps=0.001, momentum=0.1, affine=True, track_running_stats=True)\n",
       "      )\n",
       "    )\n",
       "  )\n",
       "  (conv_head): Conv2d(352, 1408, kernel_size=(1, 1), stride=(1, 1), bias=False)\n",
       "  (bn2): BatchNorm2d(1408, eps=0.001, momentum=0.1, affine=True, track_running_stats=True)\n",
       "  (act2): SiLU(inplace=True)\n",
       "  (global_pool): SelectAdaptivePool2d (pool_type=max, flatten=True)\n",
       "  (classifier): Identity()\n",
       ")"
      ]
     },
     "execution_count": 12,
     "metadata": {},
     "output_type": "execute_result"
    }
   ],
   "source": [
    "feature_extractor_model.classifier=torch.nn.Identity()\n",
    "feature_extractor_model=feature_extractor_model.to(device)\n",
    "feature_extractor_model.eval()"
   ]
  },
  {
   "cell_type": "code",
   "execution_count": 13,
   "metadata": {},
   "outputs": [],
   "source": [
    "def get_probab(features, logits=True):\n",
    "    x=np.dot(features,np.transpose(classifier_weights))+classifier_bias\n",
    "    if logits:\n",
    "        return x\n",
    "    #print(x)\n",
    "    e_x = np.exp(x - np.max(x,axis=0))\n",
    "    return e_x / e_x.sum(axis=1)[:,None]"
   ]
  },
  {
   "cell_type": "code",
   "execution_count": 24,
   "metadata": {},
   "outputs": [
    {
     "name": "stdout",
     "output_type": "stream",
     "text": [
      "Compose(\n",
      "    Resize(size=(260, 260), interpolation=PIL.Image.BILINEAR)\n",
      "    ToTensor()\n",
      "    Normalize(mean=[0.485, 0.456, 0.406], std=[0.229, 0.224, 0.225])\n",
      ")\n",
      "/home/HDD6TB/datasets/emotions/ABAW/faces\n"
     ]
    }
   ],
   "source": [
    "print(test_transforms)\n",
    "data_dir=os.path.join(DATA_DIR,'cropped')\n",
    "#data_dir=os.path.join(DATA_DIR,'my_faces/mtcnn_cropped/')\n",
    "print(data_dir)\n",
    "img_names=[]\n",
    "X_global_features=[]\n",
    "imgs=[]\n",
    "for filename in tqdm(os.listdir(data_dir)):\n",
    "#for filename in ['video10_1_left','49-30-1280x720_left', 'video5_left']: #need to copy these directories from cropped_aligned\n",
    "    frames_dir=os.path.join(data_dir,filename)    \n",
    "    for img_name in os.listdir(frames_dir):\n",
    "        if img_name.lower().endswith('.jpg'):\n",
    "            img = Image.open(os.path.join(frames_dir,img_name))\n",
    "            img_tensor = test_transforms(img)\n",
    "            if img.size:\n",
    "                img_names.append(filename+'/'+img_name)\n",
    "                imgs.append(img_tensor)\n",
    "                if len(imgs)>=48: #96: #64: #32:        \n",
    "                    features = feature_extractor_model(torch.stack(imgs, dim=0).to(device))\n",
    "                    features=features.data.cpu().numpy()\n",
    "                    #print(features.shape)\n",
    "\n",
    "                    if len(X_global_features)==0:\n",
    "                        X_global_features=features\n",
    "                    else:\n",
    "                        X_global_features=np.concatenate((X_global_features,features),axis=0)\n",
    "                    imgs=[]\n",
    "\n",
    "if len(imgs)>0:        \n",
    "    features = feature_extractor_model(torch.stack(imgs, dim=0).to(device))\n",
    "    features=features.data.cpu().numpy()\n",
    "\n",
    "    if len(X_global_features)==0:\n",
    "        X_global_features=features\n",
    "    else:\n",
    "        X_global_features=np.concatenate((X_global_features,features),axis=0)\n",
    "\n",
    "    imgs=[]\n",
    "\n",
    "    #X_scores=X_global_features #get_probab(X_global_features)\n",
    "    #print(X_global_features.shape,X_scores.shape)"
   ]
  },
  {
   "cell_type": "code",
   "execution_count": 25,
   "metadata": {},
   "outputs": [],
   "source": [
    "X_scores=get_probab(X_global_features)"
   ]
  },
  {
   "cell_type": "code",
   "execution_count": 14,
   "metadata": {},
   "outputs": [
    {
     "name": "stdout",
     "output_type": "stream",
     "text": [
      "2658563\n"
     ]
    }
   ],
   "source": [
    "filename2featuresAll={img_name:(global_features,scores) for img_name,global_features,scores in zip(img_names,X_global_features,X_scores)}\n",
    "#filename2featuresAll={img_name:(global_features,) for img_name,global_features, in zip(img_names,X_global_features)}\n",
    "print(len(filename2featuresAll))"
   ]
  },
  {
   "cell_type": "markdown",
   "metadata": {},
   "source": [
    "### Save/load features "
   ]
  },
  {
   "cell_type": "code",
   "execution_count": 25,
   "metadata": {},
   "outputs": [
    {
     "name": "stdout",
     "output_type": "stream",
     "text": [
      "enet_b0_8_best_vgaf.pickle\n"
     ]
    }
   ],
   "source": [
    "import pickle\n",
    "if False:\n",
    "    model_name='mymobilenet_7_ft_sgd_model'\n",
    "    num_classes=7\n",
    "else:\n",
    "    num_classes=8\n",
    "    model_name='enet_b0_8_best_vgaf' #first three challenges\n",
    "    #model_name='enet2_8' #MTL challenge\n",
    "    \n",
    "MODEL2FEATURES=model_name+'.pickle' #'_feat_bgr_emotiw.pickle'\n",
    "\n",
    "print(MODEL2FEATURES)"
   ]
  },
  {
   "cell_type": "code",
   "execution_count": 40,
   "metadata": {},
   "outputs": [],
   "source": [
    "if False:\n",
    "    with open(MODEL2FEATURES, 'wb') as handle:\n",
    "        pickle.dump(filename2featuresAll, handle, protocol=pickle.HIGHEST_PROTOCOL)"
   ]
  },
  {
   "cell_type": "code",
   "execution_count": 26,
   "metadata": {},
   "outputs": [
    {
     "name": "stdout",
     "output_type": "stream",
     "text": [
      "2658563\n"
     ]
    }
   ],
   "source": [
    "with open(MODEL2FEATURES, 'rb') as handle:\n",
    "    filename2featuresAll=pickle.load(handle)\n",
    "print(len(filename2featuresAll))"
   ]
  },
  {
   "cell_type": "markdown",
   "metadata": {},
   "source": [
    "# Classifiers"
   ]
  },
  {
   "cell_type": "code",
   "execution_count": 9,
   "metadata": {},
   "outputs": [],
   "source": [
    "import tensorflow as tf\n",
    "from tensorflow.keras.models import Model,Sequential, load_model,model_from_json\n",
    "from tensorflow.keras.applications import mobilenet,mobilenet_v2,densenet,inception_resnet_v2,inception_v3,vgg16,resnet_v2,resnet\n",
    "#from tensorflow.keras.applications import efficientnet as enet\n",
    "import efficientnet.tfkeras as enet\n",
    "#from tensorflow.keras.utils.generic_utils import CustomObjectScope\n",
    "from tensorflow.keras.layers import Flatten, Dense, Dropout,GlobalAveragePooling2D,Activation, Conv2D, Reshape,DepthwiseConv2D,Input\n",
    "from tensorflow.keras.optimizers import SGD, Adam\n",
    "from tensorflow.keras.utils import to_categorical\n",
    "from tensorflow.keras.callbacks import ModelCheckpoint, TensorBoard, Callback, CSVLogger, EarlyStopping\n",
    "from tensorflow.keras.metrics import top_k_categorical_accuracy\n",
    "import numpy as np\n",
    "from sklearn.metrics import confusion_matrix\n",
    "from tensorflow.keras.preprocessing.image import ImageDataGenerator"
   ]
  },
  {
   "cell_type": "code",
   "execution_count": 10,
   "metadata": {},
   "outputs": [],
   "source": [
    "from copy import deepcopy\n",
    "class SaveBestModel(tf.keras.callbacks.Callback):\n",
    "    def __init__(self, save_best_metric='val_loss', this_max=False):\n",
    "        self.save_best_metric = save_best_metric\n",
    "        self.max = this_max\n",
    "        if this_max:\n",
    "            self.best = float('-inf')\n",
    "        else:\n",
    "            self.best = float('inf')\n",
    "\n",
    "    def on_epoch_end(self, epoch, logs=None):\n",
    "        metric_value = logs[self.save_best_metric]\n",
    "        if self.max:\n",
    "            if metric_value > self.best:\n",
    "                self.best = metric_value\n",
    "                self.best_model_weights = deepcopy(self.model.get_weights())\n",
    "\n",
    "        else:\n",
    "            if metric_value < self.best:\n",
    "                self.best = metric_value\n",
    "                self.best_model_weights = deepcopy(self.model.get_weights())"
   ]
  },
  {
   "cell_type": "code",
   "execution_count": 11,
   "metadata": {},
   "outputs": [],
   "source": [
    "def one_hot_transfer(label,class_num):\n",
    "    return np.eye(class_num)[label]\n",
    "\n",
    "def metric_for_Exp(gt,pred,class_num=8):\n",
    "    # compute_acc\n",
    "    acc = accuracy_score(gt,pred)\n",
    "    # compute_F1\n",
    "    gt = one_hot_transfer(gt,class_num)\n",
    "    pred = one_hot_transfer(pred,class_num)\n",
    "    F1 = []\n",
    "    for i in range(class_num):\n",
    "        gt_ = gt[:,i]\n",
    "        pred_ = pred[:,i]\n",
    "        F1.append(f1_score(gt_.flatten(), pred_))\n",
    "    F1_mean = np.mean(F1)\n",
    "    return F1_mean,acc,F1"
   ]
  },
  {
   "cell_type": "code",
   "execution_count": 12,
   "metadata": {},
   "outputs": [],
   "source": [
    "def CCC_score(x, y):\n",
    "    vx = x - np.mean(x)\n",
    "    vy = y - np.mean(y)\n",
    "    rho = np.sum(vx * vy) / (np.sqrt(np.sum(vx**2)) * np.sqrt(np.sum(vy**2)))\n",
    "    x_m = np.mean(x)\n",
    "    y_m = np.mean(y)\n",
    "    x_s = np.std(x)\n",
    "    y_s = np.std(y)\n",
    "    ccc = 2*rho*x_s*y_s/(x_s**2 + y_s**2 + (x_m - y_m)**2)\n",
    "    return ccc\n",
    "\n",
    "def metric_for_VA(gt_V,gt_A,pred_V,pred_A):\n",
    "    ccc_V,ccc_A = CCC_score(gt_V,pred_V),CCC_score(gt_A,pred_A)\n",
    "    return ccc_V,ccc_A, 0.5*(ccc_V+ccc_A)\n",
    "\n",
    "def CCC_numpy(y_true, y_pred):\n",
    "    '''Reference numpy implementation of Lin's Concordance correlation coefficient'''\n",
    "    \n",
    "    # covariance between y_true and y_pred\n",
    "    s_xy = np.cov([y_true, y_pred])[0,1]\n",
    "    # means\n",
    "    x_m = np.mean(y_true)\n",
    "    y_m = np.mean(y_pred)\n",
    "    # variances\n",
    "    s_x_sq = np.var(y_true)\n",
    "    s_y_sq = np.var(y_pred)\n",
    "    \n",
    "    # condordance correlation coefficient\n",
    "    ccc = (2.0*s_xy) / (s_x_sq + s_y_sq + (x_m-y_m)**2)\n",
    "    \n",
    "    return ccc\n",
    "\n",
    "def CCC(y_true, y_pred):\n",
    "    '''Lin's Concordance correlation coefficient: https://en.wikipedia.org/wiki/Concordance_correlation_coefficient\n",
    "    \n",
    "    The concordance correlation coefficient is the correlation between two variables that fall on the 45 degree line through the origin.\n",
    "    \n",
    "    It is a product of\n",
    "    - precision (Pearson correlation coefficient) and\n",
    "    - accuracy (closeness to 45 degree line)\n",
    "\n",
    "    Interpretation:\n",
    "    - `rho_c =  1` : perfect agreement\n",
    "    - `rho_c =  0` : no agreement\n",
    "    - `rho_c = -1` : perfect disagreement \n",
    "    \n",
    "    Args: \n",
    "    - y_true: ground truth\n",
    "    - y_pred: predicted values\n",
    "    \n",
    "    Returns:\n",
    "    - concordance correlation coefficient (float)\n",
    "    '''\n",
    "    \n",
    "    \n",
    "    # covariance between y_true and y_pred\n",
    "    #N = K.int_shape(y_pred)[-1]\n",
    "    #s_xy = 1.0 / (N - 1.0 + K.epsilon()) * K.sum((y_true - K.mean(y_true)) * (y_pred - K.mean(y_pred)))\n",
    "    #s_xy = K.mean(K.sum((y_true - K.mean(y_true)) * (y_pred - K.mean(y_pred))))\n",
    "    s_xy = K.mean((y_true - K.mean(y_true)) * (y_pred - K.mean(y_pred)))\n",
    "    # means\n",
    "    x_m = K.mean(y_true)\n",
    "    y_m = K.mean(y_pred)\n",
    "    # variances\n",
    "    s_x_sq = K.var(y_true)\n",
    "    s_y_sq = K.var(y_pred)\n",
    "    \n",
    "    # condordance correlation coefficient\n",
    "    ccc = (2.0*s_xy) / (s_x_sq + s_y_sq + (x_m-y_m)**2+K.epsilon())\n",
    "    #print(s_xy,s_x_sq,s_y_sq,x_m,y_m)\n",
    "    return ccc\n",
    "\n",
    "def CCC_VA(y_true, y_pred):\n",
    "    return 1-0.5*(CCC(y_true[:,0], y_pred[:,0])+CCC(y_true[:,1], y_pred[:,1]))\n"
   ]
  },
  {
   "cell_type": "code",
   "execution_count": 13,
   "metadata": {},
   "outputs": [],
   "source": [
    "import math\n",
    "def f1_score_max_for_AU_one_class(gt, pred, thresh,type=0):\n",
    "    gt = gt[:,type]\n",
    "    pred = pred[:,type]\n",
    "    P = []\n",
    "    R = []\n",
    "    ACC = []\n",
    "    F1 = []\n",
    "    for i in thresh:\n",
    "        new_pred = ((pred >= i) * 1).flatten()\n",
    "        P.append(precision_score(gt.flatten(), new_pred))\n",
    "        R.append(recall_score(gt.flatten(), new_pred))\n",
    "        ACC.append(accuracy_score(gt.flatten(), new_pred))\n",
    "        F1.append(f1_score(gt.flatten(), new_pred))\n",
    "\n",
    "    F1_MAX = max(F1)\n",
    "    if F1_MAX < 0 or math.isnan(F1_MAX):\n",
    "        F1_MAX = 0\n",
    "        F1_THRESH = 0\n",
    "        accuracy = 0\n",
    "    else:\n",
    "        idx_thresh = np.argmax(F1)\n",
    "        F1_THRESH = thresh[idx_thresh]\n",
    "        accuracy = ACC[idx_thresh]\n",
    "    return F1,F1_MAX,F1_THRESH,accuracy\n",
    "\n",
    "def f1_score_max(gt, pred, thresh,c=12):\n",
    "    F1_s = []\n",
    "    F1_t = []\n",
    "    ACC = []\n",
    "    from sklearn.metrics import precision_score, recall_score, accuracy_score, f1_score\n",
    "    for i in range(c):\n",
    "        F1, F1_MAX, F1_THRESH,acc = f1_score_max_for_AU_one_class(gt,pred,thresh,i)\n",
    "        F1_s.append(F1_MAX)\n",
    "        F1_t.append(F1_THRESH)\n",
    "        ACC.append(acc)\n",
    "    F1_s=np.array(F1_s)\n",
    "    F1_t=np.array(F1_t)\n",
    "    ACC=np.array(ACC)\n",
    "    return F1_s.mean(),F1_t.mean(),F1_s,F1_t,ACC"
   ]
  },
  {
   "cell_type": "markdown",
   "metadata": {},
   "source": [
    "## Expr "
   ]
  },
  {
   "cell_type": "code",
   "execution_count": 27,
   "metadata": {},
   "outputs": [
    {
     "name": "stdout",
     "output_type": "stream",
     "text": [
      "(585317, 1280) (585317,) 12044\n",
      "(280532, 1280) (280532,) 3698\n"
     ]
    }
   ],
   "source": [
    "def get_image2Expr(dirname):\n",
    "    dirpath=os.path.join(DATA_DIR,'Third ABAW Annotations/EXPR_Classification_Challenge/',dirname)\n",
    "    num_missed=0\n",
    "    X,y=[],[]\n",
    "    for filename in os.listdir(dirpath):\n",
    "        fn, ext = os.path.splitext(os.path.basename(filename))\n",
    "        if ext.lower()=='.txt':\n",
    "            with open(os.path.join(dirpath,filename)) as f:\n",
    "                lines = f.read().splitlines()\n",
    "                for i,line in enumerate(lines):\n",
    "                    if i>0:\n",
    "                        expression=int(line)\n",
    "                        if expression>=0:\n",
    "                            imagename=fn+'/'+get_names(i)+'.jpg'\n",
    "                            if imagename in filename2featuresAll:\n",
    "                                X.append(filename2featuresAll[imagename][0])\n",
    "                                y.append(expression)\n",
    "                            else:\n",
    "                                num_missed+=1\n",
    "    X=np.array(X)\n",
    "    y=np.array(y)\n",
    "    print(X.shape,y.shape,num_missed)\n",
    "    return X,y\n",
    "\n",
    "X_train,y_train=get_image2Expr('Train_Set')\n",
    "X_val,y_val=get_image2Expr('Validation_Set')"
   ]
  },
  {
   "cell_type": "code",
   "execution_count": 15,
   "metadata": {},
   "outputs": [],
   "source": [
    "def print_expr():\n",
    "    y_val_preds=mlpModel.predict(X_val)\n",
    "    y_pred=np.argmax(y_val_preds,axis=1)\n",
    "    print('Acc:',(y_pred==y_val).mean(), 'F1:',f1_score(y_true=y_val,y_pred=y_pred, average=\"macro\"))\n",
    "    print(metric_for_Exp(y_val,y_pred))"
   ]
  },
  {
   "cell_type": "code",
   "execution_count": 32,
   "metadata": {},
   "outputs": [],
   "source": [
    "batch_size=256 #128\n",
    "mlpModel=Sequential()\n",
    "if False:\n",
    "    mlpModel.add(Dense(num_classes, input_shape=X_train.shape[1:],activation='softmax',use_bias=True,kernel_regularizer=tf.keras.regularizers.l2(1.0/batch_size)))\n",
    "else:\n",
    "    mlpModel.add(Dense(128, input_shape=X_train.shape[1:],activation='relu')) #256\n",
    "    mlpModel.add(Dense(num_classes,activation='softmax'))"
   ]
  },
  {
   "cell_type": "code",
   "execution_count": 29,
   "metadata": {},
   "outputs": [
    {
     "name": "stdout",
     "output_type": "stream",
     "text": [
      "[177198  16573  10771   9080  95463  78751  31615 165866] {0: 1.0, 1: 10.691968865021419, 2: 16.451397270448425, 3: 19.515198237885464, 4: 1.856195594104522, 5: 2.2501047605744686, 6: 5.6048711054879, 7: 1.0683202102902343} 8 [0 1 2 3 4 5 6 7]\n"
     ]
    }
   ],
   "source": [
    "(unique, counts) = np.unique(y_train, return_counts=True)\n",
    "num_classes=len(unique)\n",
    "cw=1/counts\n",
    "cw/=cw.min()\n",
    "class_weights = {i:cwi for i,cwi in zip(unique,cw)}\n",
    "print(counts, class_weights, num_classes, unique)"
   ]
  },
  {
   "cell_type": "code",
   "execution_count": 33,
   "metadata": {},
   "outputs": [
    {
     "name": "stdout",
     "output_type": "stream",
     "text": [
      "Model: \"sequential_4\"\n",
      "_________________________________________________________________\n",
      "Layer (type)                 Output Shape              Param #   \n",
      "=================================================================\n",
      "dense_6 (Dense)              (None, 128)               163968    \n",
      "_________________________________________________________________\n",
      "dense_7 (Dense)              (None, 8)                 1032      \n",
      "=================================================================\n",
      "Total params: 165,000\n",
      "Trainable params: 165,000\n",
      "Non-trainable params: 0\n",
      "_________________________________________________________________\n",
      "Epoch 1/10\n",
      "2287/2287 [==============================] - 12s 5ms/step - loss: 1.5437 - accuracy: 0.7573 - val_loss: 1.9838 - val_accuracy: 0.4660\n",
      "Epoch 2/10\n",
      "2287/2287 [==============================] - 11s 5ms/step - loss: 0.5894 - accuracy: 0.8976 - val_loss: 2.0917 - val_accuracy: 0.5003\n",
      "Epoch 3/10\n",
      "2287/2287 [==============================] - 11s 5ms/step - loss: 0.4235 - accuracy: 0.9225 - val_loss: 2.2836 - val_accuracy: 0.4972\n",
      "Epoch 4/10\n",
      "2287/2287 [==============================] - 11s 5ms/step - loss: 0.3471 - accuracy: 0.9359 - val_loss: 2.4507 - val_accuracy: 0.4860\n",
      "Epoch 5/10\n",
      "2287/2287 [==============================] - 11s 5ms/step - loss: 0.2911 - accuracy: 0.9454 - val_loss: 2.5941 - val_accuracy: 0.4697\n",
      "Epoch 6/10\n",
      "2287/2287 [==============================] - 11s 5ms/step - loss: 0.2457 - accuracy: 0.9528 - val_loss: 2.9248 - val_accuracy: 0.4642\n",
      "Epoch 7/10\n",
      "2287/2287 [==============================] - 11s 5ms/step - loss: 0.2169 - accuracy: 0.9579 - val_loss: 3.0192 - val_accuracy: 0.4578\n",
      "Epoch 8/10\n",
      "2287/2287 [==============================] - 11s 5ms/step - loss: 0.1960 - accuracy: 0.9622 - val_loss: 3.1196 - val_accuracy: 0.4591\n",
      "Epoch 9/10\n",
      "2287/2287 [==============================] - 11s 5ms/step - loss: 0.1728 - accuracy: 0.9657 - val_loss: 3.1436 - val_accuracy: 0.4677\n",
      "Epoch 10/10\n",
      "2287/2287 [==============================] - 11s 5ms/step - loss: 0.1620 - accuracy: 0.9683 - val_loss: 3.4909 - val_accuracy: 0.4383\n",
      "0.5002851486206055\n"
     ]
    }
   ],
   "source": [
    "mlpModel.compile(optimizer=Adam(lr=1e-3), loss='sparse_categorical_crossentropy', metrics=['accuracy'])\n",
    "mlpModel.summary()\n",
    "\n",
    "save_best_model = SaveBestModel('val_accuracy',True)\n",
    "mlpModel.fit(X_train,y_train, batch_size=batch_size, epochs=10, verbose=1, \n",
    "             callbacks=[save_best_model], validation_data=(X_val,y_val),class_weight=class_weights)\n",
    "best_model_weights = save_best_model.best_model_weights\n",
    "print(save_best_model.best)"
   ]
  },
  {
   "cell_type": "code",
   "execution_count": 34,
   "metadata": {},
   "outputs": [
    {
     "name": "stdout",
     "output_type": "stream",
     "text": [
      "Acc: 0.4383457145708867 F1: 0.33920330611636373\n",
      "(0.33920330611636373, 0.4383457145708867, [0.5438041551067051, 0.12640901771336555, 0.5226523887973641, 0.018429057076400072, 0.4351345007276654, 0.4133538326378212, 0.23134583683244686, 0.4224976600391412])\n",
      "Best weights:\n",
      "Acc: 0.500285172458044 F1: 0.3807067519117502\n",
      "(0.3807067519117502, 0.500285172458044, [0.608643679809698, 0.15128569174948728, 0.5162256615077384, 0.01599360255897641, 0.4778312968664514, 0.4611138100075078, 0.3029224246739377, 0.5116378481202044])\n"
     ]
    }
   ],
   "source": [
    "if True:\n",
    "    print_expr()\n",
    "    print('Best weights:')\n",
    "    mlpModel.set_weights(best_model_weights)\n",
    "print_expr()"
   ]
  },
  {
   "cell_type": "code",
   "execution_count": 36,
   "metadata": {},
   "outputs": [
    {
     "name": "stdout",
     "output_type": "stream",
     "text": [
      "Acc: 0.500285172458044 F1: 0.3807067519117502\n",
      "(0.3807067519117502, 0.500285172458044, [0.608643679809698, 0.15128569174948728, 0.5162256615077384, 0.01599360255897641, 0.4778312968664514, 0.4611138100075078, 0.3029224246739377, 0.5116378481202044])\n"
     ]
    }
   ],
   "source": [
    "if False:\n",
    "    #mlpModel.save_weights('expr_enet0_7.h5') #Acc: 0.48438324326636534 F1: 0.3604978104476117\n",
    "    #mlpModel.save_weights('expr_enet0_vgaf.h5')#Acc: 0.49085665806396417 F1: 0.37334516257107847\n",
    "    mlpModel.save_weights('expr_enet0_vgaf.h5')#Acc: 0.500285172458044 F1: 0.3807067519117502\n",
    "else:\n",
    "    mlpModel.load_weights('expr_enet0_vgaf.h5')\n",
    "    print_expr()"
   ]
  },
  {
   "cell_type": "markdown",
   "metadata": {},
   "source": [
    "### Save test results "
   ]
  },
  {
   "cell_type": "code",
   "execution_count": 37,
   "metadata": {},
   "outputs": [
    {
     "name": "stdout",
     "output_type": "stream",
     "text": [
      "228 ['14-30-1920x1080', '16-30-1920x1080', '40-30-1280x720', '43-30-406x720', '44-25-426x240']\n"
     ]
    }
   ],
   "source": [
    "with open(os.path.join(DATA_DIR,'Expression_Classification_Challenge_test_set_release.txt'),'r') as f:\n",
    "    test_set_videos=f.read().splitlines()\n",
    "print(len(test_set_videos),test_set_videos[:5])"
   ]
  },
  {
   "cell_type": "code",
   "execution_count": 38,
   "metadata": {},
   "outputs": [
    {
     "name": "stdout",
     "output_type": "stream",
     "text": [
      "228\n"
     ]
    }
   ],
   "source": [
    "data_dir=os.path.join(DATA_DIR,'cropped')\n",
    "test_videos={}\n",
    "for videoname in os.listdir(data_dir):\n",
    "    #if videoname not in train_val_videos:\n",
    "    if videoname in test_set_videos:\n",
    "        X,indices,filenames=[],[],[]\n",
    "        images=[img_name for img_name in os.listdir(os.path.join(data_dir,videoname)) if img_name.lower().endswith('.jpg')]\n",
    "        for img_name in sorted(images, key=compare_filenames):\n",
    "            k=videoname+'/'+img_name\n",
    "            if k in filename2featuresAll:\n",
    "                X.append(filename2featuresAll[k][0])\n",
    "                indices.append(int(img_name[:-4]))\n",
    "                filenames.append(k)\n",
    "        test_videos[videoname]=(mlpModel.predict(np.array(X)),indices,filenames)\n",
    "print(len(test_videos))"
   ]
  },
  {
   "cell_type": "code",
   "execution_count": 41,
   "metadata": {},
   "outputs": [
    {
     "name": "stderr",
     "output_type": "stream",
     "text": [
      "100%|██████████| 228/228 [00:49<00:00,  4.57it/s]\n"
     ]
    }
   ],
   "source": [
    "delta=2 # 0 2 4 7\n",
    "resdir=os.path.join(DATA_DIR,'test_results/2_smooth5/EXPR')\n",
    "if not os.path.exists(resdir):\n",
    "    os.makedirs(resdir)\n",
    "header = 'Neutral,Anger,Disgust,Fear,Happiness,Sadness,Surprise,Other\\n'\n",
    "for videoname,(y_pred_expr,indices,filenames) in tqdm(test_videos.items()):\n",
    "    #y_pred_expr=mlpModel.predict(X)\n",
    "    #print(len(indices),indices[-1],indices[0])\n",
    "    #print(y_pred_expr.shape)\n",
    "    \n",
    "    cur_ind=0\n",
    "    preds_proba=[]\n",
    "    for i in range(indices[-1]):\n",
    "        if indices[cur_ind]-1==i:\n",
    "            preds_proba.append(y_pred_expr[cur_ind])\n",
    "            cur_ind+=1\n",
    "        else:\n",
    "            if cur_ind==0:\n",
    "                preds_proba.append(y_pred_expr[cur_ind])\n",
    "            else:\n",
    "                w=(i-indices[cur_ind-1]+1)/(indices[cur_ind]-indices[cur_ind-1])\n",
    "                pred=w*y_pred_expr[cur_ind-1]+(1-w)*y_pred_expr[cur_ind]\n",
    "                preds_proba.append(pred)\n",
    "    \n",
    "    pred=y_pred_expr[cur_ind-1]\n",
    "    if videoname.endswith('_left'):\n",
    "        videoname=videoname[:-5]\n",
    "    elif videoname.endswith('_right'):\n",
    "        videoname=videoname[:-6]\n",
    "    for _ in range(indices[-1],video2len[videoname]):\n",
    "        preds_proba.append(pred)\n",
    "\n",
    "    preds_proba=np.array(preds_proba)\n",
    "    with open(os.path.join(resdir,videoname+'.txt'), 'w') as f:\n",
    "        f.write(header)\n",
    "        for i in range(len(preds_proba)):\n",
    "            i1=max(i-delta,0)\n",
    "            proba=preds_proba[i1:i+delta+1].mean(axis=0)\n",
    "            f.write(str(np.argmax(proba))+'\\n')"
   ]
  },
  {
   "cell_type": "markdown",
   "metadata": {},
   "source": [
    "## Valence-Arousal "
   ]
  },
  {
   "cell_type": "code",
   "execution_count": 42,
   "metadata": {},
   "outputs": [
    {
     "name": "stdout",
     "output_type": "stream",
     "text": [
      "(1555919, 8) (1555919, 2) 25265\n",
      "(338755, 8) (338755, 2) 5959\n"
     ]
    }
   ],
   "source": [
    "def get_image2VA(dirname):\n",
    "    dirpath=os.path.join(DATA_DIR,'Third ABAW Annotations/VA_Estimation_Challenge/',dirname)\n",
    "    num_missed=0\n",
    "    X,y=[],[]\n",
    "    for filename in os.listdir(dirpath):\n",
    "        fn, ext = os.path.splitext(os.path.basename(filename))\n",
    "        if ext.lower()=='.txt':\n",
    "            with open(os.path.join(dirpath,filename)) as f:\n",
    "                lines = f.read().splitlines()\n",
    "                for i,line in enumerate(lines):\n",
    "                    if i>0:\n",
    "                        splitted_line=line.split(',')\n",
    "                        valence=float(splitted_line[0])\n",
    "                        arousal=float(splitted_line[1])\n",
    "                        if valence>=-1 and arousal>=-1:\n",
    "                            imagename=fn+'/'+get_names(i)+'.jpg'\n",
    "                            if imagename in filename2featuresAll:\n",
    "                                X.append(filename2featuresAll[imagename][1])\n",
    "                                y.append((valence,arousal))\n",
    "                            else:\n",
    "                                num_missed+=1\n",
    "    X=np.array(X)\n",
    "    y=np.array(y)\n",
    "    print(X.shape,y.shape,num_missed)\n",
    "    return X,y\n",
    "\n",
    "X_train,y_train=get_image2VA('Train_Set')\n",
    "X_val,y_val=get_image2VA('Validation_Set')"
   ]
  },
  {
   "cell_type": "code",
   "execution_count": 43,
   "metadata": {},
   "outputs": [],
   "source": [
    "def print_ccc():\n",
    "    y_val_preds=mlpModel.predict(X_val)\n",
    "    gt_V=y_val[:,0]\n",
    "    gt_A=y_val[:,1]\n",
    "    pred_V=y_val_preds[:,0]\n",
    "    pred_A=y_val_preds[:,1]\n",
    "    print(metric_for_VA(gt_V,gt_A,pred_V,pred_A))\n",
    "    print(CCC_numpy(gt_V,pred_V),CCC_numpy(gt_A,pred_A))"
   ]
  },
  {
   "cell_type": "code",
   "execution_count": 44,
   "metadata": {},
   "outputs": [],
   "source": [
    "batch_size=512 #128\n",
    "mlpModel=Sequential()\n",
    "if True:\n",
    "    mlpModel.add(Dense(2, input_shape=X_train.shape[1:],activation='tanh',use_bias=True,kernel_regularizer=tf.keras.regularizers.l2(1.0/batch_size)))\n",
    "else:\n",
    "    mlpModel.add(Dense(128, input_shape=X_train.shape[1:],activation='relu')) #256\n",
    "    mlpModel.add(Dense(2,activation='tanh'))"
   ]
  },
  {
   "cell_type": "code",
   "execution_count": 45,
   "metadata": {},
   "outputs": [
    {
     "name": "stdout",
     "output_type": "stream",
     "text": [
      "Model: \"sequential_5\"\n",
      "_________________________________________________________________\n",
      "Layer (type)                 Output Shape              Param #   \n",
      "=================================================================\n",
      "dense_8 (Dense)              (None, 2)                 18        \n",
      "=================================================================\n",
      "Total params: 18\n",
      "Trainable params: 18\n",
      "Non-trainable params: 0\n",
      "_________________________________________________________________\n",
      "Epoch 1/20\n",
      "3039/3039 [==============================] - 15s 5ms/step - loss: 0.8378 - mae: 0.6590 - mse: 0.6505 - val_loss: 0.8218 - val_mae: 0.2785 - val_mse: 0.1305\n",
      "Epoch 2/20\n",
      "3039/3039 [==============================] - 15s 5ms/step - loss: 0.5054 - mae: 0.2777 - mse: 0.1278 - val_loss: 0.8217 - val_mae: 0.2772 - val_mse: 0.1292\n",
      "Epoch 3/20\n",
      "3039/3039 [==============================] - 15s 5ms/step - loss: 0.5061 - mae: 0.2777 - mse: 0.1278 - val_loss: 0.8217 - val_mae: 0.2785 - val_mse: 0.1307\n",
      "Epoch 4/20\n",
      "3039/3039 [==============================] - 15s 5ms/step - loss: 0.5057 - mae: 0.2774 - mse: 0.1276 - val_loss: 0.8232 - val_mae: 0.2802 - val_mse: 0.1317\n",
      "Epoch 5/20\n",
      "3039/3039 [==============================] - 15s 5ms/step - loss: 0.5045 - mae: 0.2775 - mse: 0.1276 - val_loss: 0.8229 - val_mae: 0.2807 - val_mse: 0.1318\n",
      "Epoch 6/20\n",
      "3039/3039 [==============================] - 15s 5ms/step - loss: 0.5052 - mae: 0.2776 - mse: 0.1277 - val_loss: 0.8232 - val_mae: 0.2774 - val_mse: 0.1293\n",
      "Epoch 7/20\n",
      "3039/3039 [==============================] - 15s 5ms/step - loss: 0.5048 - mae: 0.2775 - mse: 0.1275 - val_loss: 0.8221 - val_mae: 0.2781 - val_mse: 0.1301\n",
      "Epoch 8/20\n",
      "3039/3039 [==============================] - 15s 5ms/step - loss: 0.5050 - mae: 0.2776 - mse: 0.1277 - val_loss: 0.8231 - val_mae: 0.2793 - val_mse: 0.1312\n",
      "Epoch 9/20\n",
      "3039/3039 [==============================] - 12s 4ms/step - loss: 0.5046 - mae: 0.2772 - mse: 0.1272 - val_loss: 0.8225 - val_mae: 0.2783 - val_mse: 0.1301\n",
      "Epoch 10/20\n",
      "3039/3039 [==============================] - 12s 4ms/step - loss: 0.5044 - mae: 0.2774 - mse: 0.1275 - val_loss: 0.8216 - val_mae: 0.2751 - val_mse: 0.1278\n",
      "Epoch 11/20\n",
      "3039/3039 [==============================] - 12s 4ms/step - loss: 0.5058 - mae: 0.2776 - mse: 0.1278 - val_loss: 0.8235 - val_mae: 0.2789 - val_mse: 0.1308\n",
      "Epoch 12/20\n",
      "3039/3039 [==============================] - 12s 4ms/step - loss: 0.5054 - mae: 0.2779 - mse: 0.1280 - val_loss: 0.8238 - val_mae: 0.2804 - val_mse: 0.1324\n",
      "Epoch 13/20\n",
      "3039/3039 [==============================] - 14s 5ms/step - loss: 0.5050 - mae: 0.2776 - mse: 0.1276 - val_loss: 0.8223 - val_mae: 0.2759 - val_mse: 0.1283\n",
      "Epoch 14/20\n",
      "3039/3039 [==============================] - 15s 5ms/step - loss: 0.5049 - mae: 0.2774 - mse: 0.1276 - val_loss: 0.8226 - val_mae: 0.2764 - val_mse: 0.1290\n",
      "Epoch 15/20\n",
      "3039/3039 [==============================] - 15s 5ms/step - loss: 0.5045 - mae: 0.2773 - mse: 0.1274 - val_loss: 0.8234 - val_mae: 0.2787 - val_mse: 0.1307\n",
      "Epoch 16/20\n",
      "3039/3039 [==============================] - 15s 5ms/step - loss: 0.5054 - mae: 0.2779 - mse: 0.1279 - val_loss: 0.8213 - val_mae: 0.2787 - val_mse: 0.1306\n",
      "Epoch 17/20\n",
      "3039/3039 [==============================] - 15s 5ms/step - loss: 0.5044 - mae: 0.2772 - mse: 0.1273 - val_loss: 0.8247 - val_mae: 0.2792 - val_mse: 0.1310\n",
      "Epoch 18/20\n",
      "3039/3039 [==============================] - 15s 5ms/step - loss: 0.5051 - mae: 0.2776 - mse: 0.1277 - val_loss: 0.8228 - val_mae: 0.2778 - val_mse: 0.1295\n",
      "Epoch 19/20\n",
      "3039/3039 [==============================] - 15s 5ms/step - loss: 0.5049 - mae: 0.2773 - mse: 0.1275 - val_loss: 0.8224 - val_mae: 0.2761 - val_mse: 0.1285\n",
      "Epoch 20/20\n",
      "3039/3039 [==============================] - 14s 5ms/step - loss: 0.5049 - mae: 0.2777 - mse: 0.1277 - val_loss: 0.8230 - val_mae: 0.2802 - val_mse: 0.1317\n",
      "0.821322500705719\n"
     ]
    }
   ],
   "source": [
    "mlpModel.compile(optimizer=Adam(lr=1e-3), loss=CCC_VA, metrics=['mae','mse'])\n",
    "mlpModel.summary()\n",
    "\n",
    "save_best_model = SaveBestModel('val_loss',False)\n",
    "mlpModel.fit(X_train,y_train, batch_size=batch_size, epochs=20, verbose=1, callbacks=[save_best_model], validation_data=(X_val,y_val))\n",
    "best_model_weights = save_best_model.best_model_weights\n",
    "print(save_best_model.best)"
   ]
  },
  {
   "cell_type": "code",
   "execution_count": 46,
   "metadata": {},
   "outputs": [
    {
     "name": "stdout",
     "output_type": "stream",
     "text": [
      "(0.4315120893088298, 0.4936346386620984, 0.4625733639854641)\n",
      "0.43151336571687304 0.49363607254835185\n",
      "Best weights:\n",
      "(0.4292276337077572, 0.4967911728286142, 0.4630094032681857)\n",
      "0.4292288924922802 0.49679262232452065\n"
     ]
    }
   ],
   "source": [
    "print_ccc()\n",
    "print('Best weights:')\n",
    "mlpModel.set_weights(best_model_weights)\n",
    "print_ccc()"
   ]
  },
  {
   "cell_type": "code",
   "execution_count": 38,
   "metadata": {},
   "outputs": [
    {
     "name": "stdout",
     "output_type": "stream",
     "text": [
      "(0.42896714840390443, 0.4963675256226998, 0.4626673370133021)\n",
      "0.4289684062520081 0.4963689931092825\n"
     ]
    }
   ],
   "source": [
    "if False:\n",
    "    #mlpModel.save_weights('va_enet0_7.h5') #(0.42432524480841777, 0.4820651093839277, 0.45319517709617274)\n",
    "    mlpModel.save_weights('va_enet0_vgaf.h5') #(0.42896714840390443, 0.4963675256226998, 0.4626673370133021)\n",
    "else:\n",
    "    mlpModel.load_weights('va_enet0_vgaf.h5')\n",
    "    print_ccc()"
   ]
  },
  {
   "cell_type": "markdown",
   "metadata": {},
   "source": [
    "### Save test results "
   ]
  },
  {
   "cell_type": "code",
   "execution_count": 39,
   "metadata": {},
   "outputs": [
    {
     "name": "stdout",
     "output_type": "stream",
     "text": [
      "152 ['2-30-640x360', '3-25-1920x1080', '6-30-1920x1080_left', '6-30-1920x1080_right', '11-24-1920x1080']\n"
     ]
    }
   ],
   "source": [
    "with open(os.path.join(DATA_DIR,'Valence_Arousal_Estimation_Challenge_test_set_release.txt'),'r') as f:\n",
    "    test_set_videos=f.read().splitlines()\n",
    "print(len(test_set_videos),test_set_videos[:5])"
   ]
  },
  {
   "cell_type": "code",
   "execution_count": 40,
   "metadata": {},
   "outputs": [
    {
     "name": "stdout",
     "output_type": "stream",
     "text": [
      "152\n"
     ]
    }
   ],
   "source": [
    "data_dir=os.path.join(DATA_DIR,'cropped')\n",
    "test_videos={}\n",
    "for videoname in os.listdir(data_dir):\n",
    "    #if videoname not in train_val_videos:\n",
    "    if videoname in test_set_videos:\n",
    "        X,indices=[],[]\n",
    "        images=[img_name for img_name in os.listdir(os.path.join(data_dir,videoname)) if img_name.lower().endswith('.jpg')]\n",
    "        for img_name in sorted(images, key=compare_filenames):\n",
    "            k=videoname+'/'+img_name\n",
    "            if k in filename2featuresAll:\n",
    "                X.append(filename2featuresAll[k][1])\n",
    "                indices.append(int(img_name[:-4]))\n",
    "        test_videos[videoname]=(mlpModel.predict(np.array(X)),indices)\n",
    "print(len(test_videos))"
   ]
  },
  {
   "cell_type": "code",
   "execution_count": 42,
   "metadata": {},
   "outputs": [
    {
     "name": "stderr",
     "output_type": "stream",
     "text": [
      "100%|██████████| 152/152 [00:23<00:00,  6.45it/s]\n"
     ]
    }
   ],
   "source": [
    "delta=2 #0 2 4 7\n",
    "resdir=os.path.join(DATA_DIR,'test_results/2_smooth5/VA')\n",
    "if not os.path.exists(resdir):\n",
    "    os.makedirs(resdir)\n",
    "header = 'valence,arousal\\n'\n",
    "\n",
    "for videoname,(y_pred_va,indices) in test_videos.items():\n",
    "    #y_pred_va=mlpModel.predict(X)\n",
    "    #print(len(indices),indices[-1],indices[0])\n",
    "    #print(y_pred_va.shape)\n",
    "    cur_ind=0\n",
    "    preds=[]\n",
    "    for i in range(indices[-1]):\n",
    "        if indices[cur_ind]-1==i:\n",
    "            preds.append(y_pred_va[cur_ind])\n",
    "            cur_ind+=1\n",
    "        else:\n",
    "            if cur_ind==0:\n",
    "                preds.append(y_pred_va[cur_ind])\n",
    "            else:\n",
    "                w=(i-indices[cur_ind-1]+1)/(indices[cur_ind]-indices[cur_ind-1])\n",
    "                pred=w*y_pred_va[cur_ind-1]+(1-w)*y_pred_va[cur_ind]\n",
    "                preds.append(pred)\n",
    "\n",
    "    pred=y_pred_va[cur_ind-1]\n",
    "    if videoname.endswith('_left'):\n",
    "        videoname=videoname[:-5]\n",
    "    elif videoname.endswith('_right'):\n",
    "        videoname=videoname[:-6]\n",
    "    for _ in range(indices[-1],video2len[videoname]):\n",
    "        preds.append(pred)\n",
    "    preds=np.array(preds)\n",
    "    with open(os.path.join(resdir,videoname+'.txt'), 'w') as f:\n",
    "        f.write(header)\n",
    "        for i in range(len(preds)):\n",
    "            i1=max(i-delta,0)\n",
    "            pred=preds[i1:i+delta+1].mean(axis=0)\n",
    "            f.write(str(pred[0])+','+str(pred[1])+'\\n')"
   ]
  },
  {
   "cell_type": "markdown",
   "metadata": {},
   "source": [
    "## AU "
   ]
  },
  {
   "cell_type": "code",
   "execution_count": 47,
   "metadata": {},
   "outputs": [
    {
     "name": "stdout",
     "output_type": "stream",
     "text": [
      "(1356861, 1280) (1356861, 12) 2829\n",
      "(445836, 1280) (445836, 12) 9\n"
     ]
    }
   ],
   "source": [
    "def get_image2AU(dirname):\n",
    "    dirpath=os.path.join(DATA_DIR,'Third ABAW Annotations/AU_Detection_Challenge/',dirname)\n",
    "    num_missed=0\n",
    "    X,y=[],[]\n",
    "    for filename in os.listdir(dirpath):\n",
    "        fn, ext = os.path.splitext(os.path.basename(filename))\n",
    "        if ext.lower()=='.txt':\n",
    "            with open(os.path.join(dirpath,filename)) as f:\n",
    "                lines = f.read().splitlines()\n",
    "                for i,line in enumerate(lines):\n",
    "                    if i>0:\n",
    "                        splitted_line=line.split(',')\n",
    "                        aus=list(map(int,splitted_line))\n",
    "                        if min(aus)>=0:\n",
    "                            imagename=fn+'/'+get_names(i)+'.jpg'\n",
    "                            if imagename in filename2featuresAll:\n",
    "                                X.append(filename2featuresAll[imagename][0])\n",
    "                                y.append(aus)\n",
    "                            else:\n",
    "                                num_missed+=1\n",
    "    X=np.array(X)\n",
    "    y=np.array(y)\n",
    "    print(X.shape,y.shape,num_missed)\n",
    "    return X,y\n",
    "\n",
    "X_train,y_train=get_image2AU('Train_Set')\n",
    "X_val,y_val=get_image2AU('Validation_Set')"
   ]
  },
  {
   "cell_type": "code",
   "execution_count": 48,
   "metadata": {},
   "outputs": [],
   "source": [
    "def print_au():\n",
    "    y_val_preds=mlpModel.predict(X_val)\n",
    "    new_pred = ((y_val_preds >= 0.5) * 1)\n",
    "    print(np.mean([f1_score(y_true=y_val[:,i],y_pred=new_pred[:,i]) for i in range(y_val_preds.shape[1])]))\n",
    "    print(f1_score_max(y_val,y_val_preds,thresh=np.arange(0.1,1,0.1)))\n"
   ]
  },
  {
   "cell_type": "code",
   "execution_count": 49,
   "metadata": {},
   "outputs": [
    {
     "name": "stdout",
     "output_type": "stream",
     "text": [
      "12\n",
      "[[ 0.56699737  4.23148962]\n",
      " [ 0.52623698 10.02853659]\n",
      " [ 0.59099307  3.24746184]\n",
      " [ 0.68134051  1.87862194]\n",
      " [ 0.82949071  1.25874673]\n",
      " [ 0.7628283   1.45119134]\n",
      " [ 0.66223812  2.04094492]\n",
      " [ 0.51446878 17.77857704]\n",
      " [ 0.51624061 15.8935131 ]\n",
      " [ 0.51314264 19.52205628]\n",
      " [ 1.3391547   0.79791885]\n",
      " [ 0.54019984  6.71892981]]\n"
     ]
    }
   ],
   "source": [
    "num_labels=y_train.shape[1]\n",
    "print(num_labels)\n",
    "from sklearn.utils.class_weight import compute_class_weight\n",
    "class_weights = np.empty([num_labels, 2])\n",
    "for i in range(num_labels):\n",
    "    neg, pos = np.bincount(y_train[:, i])\n",
    "    total = neg + pos\n",
    "    weight_for_0 = (1 / neg) * (total / 2.0)\n",
    "    weight_for_1 = (1 / pos) * (total / 2.0)\n",
    "\n",
    "    class_weights[i][0]=weight_for_0\n",
    "    class_weights[i][1]=weight_for_1\n",
    "    #class_weights[i] = compute_class_weight('balanced', [0,1], y_train[:, i])\n",
    "print(class_weights)"
   ]
  },
  {
   "cell_type": "code",
   "execution_count": 50,
   "metadata": {},
   "outputs": [],
   "source": [
    "if False:\n",
    "    loss='binary_crossentropy'\n",
    "    #loss='hinge'\n",
    "else:\n",
    "    import tensorflow.keras.backend as K\n",
    "    def get_weighted_loss(weights):\n",
    "        def weighted_loss(y_true, y_pred):\n",
    "            y_true=tf.cast(y_true, tf.float32)\n",
    "            ce=K.binary_crossentropy(y_true, y_pred)\n",
    "            return K.mean((weights[:,0]**(1-y_true))*(weights[:,1]**(y_true))*ce, axis=-1)\n",
    "        return weighted_loss\n",
    "    loss=get_weighted_loss(class_weights)"
   ]
  },
  {
   "cell_type": "code",
   "execution_count": 51,
   "metadata": {},
   "outputs": [],
   "source": [
    "metrics=[tf.keras.metrics.AUC(multi_label=True,name='auc'), tf.keras.metrics.BinaryAccuracy(),tf.keras.metrics.Recall(),tf.keras.metrics.Precision()] # "
   ]
  },
  {
   "cell_type": "code",
   "execution_count": 52,
   "metadata": {},
   "outputs": [],
   "source": [
    "batch_size=512 #128\n",
    "mlpModel=Sequential()\n",
    "if False:\n",
    "    mlpModel.add(Dense(y_train.shape[1], input_shape=X_train.shape[1:],activation='sigmoid',use_bias=True,kernel_regularizer=tf.keras.regularizers.l2(1.0/batch_size)))\n",
    "else:\n",
    "    mlpModel.add(Dense(128, input_shape=X_train.shape[1:],activation='relu')) #256\n",
    "    mlpModel.add(Dense(y_train.shape[1],activation='sigmoid'))"
   ]
  },
  {
   "cell_type": "code",
   "execution_count": 53,
   "metadata": {},
   "outputs": [
    {
     "name": "stdout",
     "output_type": "stream",
     "text": [
      "Model: \"sequential_6\"\n",
      "_________________________________________________________________\n",
      "Layer (type)                 Output Shape              Param #   \n",
      "=================================================================\n",
      "dense_9 (Dense)              (None, 128)               163968    \n",
      "_________________________________________________________________\n",
      "dense_10 (Dense)             (None, 12)                1548      \n",
      "=================================================================\n",
      "Total params: 165,516\n",
      "Trainable params: 165,516\n",
      "Non-trainable params: 0\n",
      "_________________________________________________________________\n",
      "Epoch 1/20\n",
      "2651/2651 [==============================] - 24s 9ms/step - loss: 0.3646 - auc: 0.9142 - binary_accuracy: 0.8373 - recall: 0.8112 - precision: 0.5625 - val_loss: 0.6748 - val_auc: 0.8232 - val_binary_accuracy: 0.8127 - val_recall: 0.7541 - val_precision: 0.5328\n",
      "Epoch 2/20\n",
      "2651/2651 [==============================] - 22s 8ms/step - loss: 0.2625 - auc: 0.9553 - binary_accuracy: 0.8848 - recall: 0.8638 - precision: 0.6578 - val_loss: 0.7679 - val_auc: 0.8200 - val_binary_accuracy: 0.8261 - val_recall: 0.7289 - val_precision: 0.5607\n",
      "Epoch 3/20\n",
      "2651/2651 [==============================] - 22s 8ms/step - loss: 0.2389 - auc: 0.9620 - binary_accuracy: 0.8948 - recall: 0.8741 - precision: 0.6815 - val_loss: 0.8364 - val_auc: 0.8178 - val_binary_accuracy: 0.8286 - val_recall: 0.7383 - val_precision: 0.5650\n",
      "Epoch 4/20\n",
      "2651/2651 [==============================] - 22s 8ms/step - loss: 0.2240 - auc: 0.9659 - binary_accuracy: 0.9013 - recall: 0.8807 - precision: 0.6973 - val_loss: 0.9254 - val_auc: 0.8076 - val_binary_accuracy: 0.8342 - val_recall: 0.7169 - val_precision: 0.5798\n",
      "Epoch 5/20\n",
      "2651/2651 [==============================] - 22s 8ms/step - loss: 0.2141 - auc: 0.9684 - binary_accuracy: 0.9057 - recall: 0.8847 - precision: 0.7086 - val_loss: 0.9252 - val_auc: 0.8089 - val_binary_accuracy: 0.8302 - val_recall: 0.7314 - val_precision: 0.5692\n",
      "Epoch 6/20\n",
      "2651/2651 [==============================] - 22s 8ms/step - loss: 0.2073 - auc: 0.9700 - binary_accuracy: 0.9086 - recall: 0.8875 - precision: 0.7159 - val_loss: 0.9934 - val_auc: 0.8060 - val_binary_accuracy: 0.8323 - val_recall: 0.7150 - val_precision: 0.5757\n",
      "Epoch 7/20\n",
      "2651/2651 [==============================] - 22s 8ms/step - loss: 0.2002 - auc: 0.9716 - binary_accuracy: 0.9116 - recall: 0.8905 - precision: 0.7236 - val_loss: 1.0144 - val_auc: 0.8046 - val_binary_accuracy: 0.8319 - val_recall: 0.7065 - val_precision: 0.5757\n",
      "Epoch 8/20\n",
      "2651/2651 [==============================] - 22s 8ms/step - loss: 0.1956 - auc: 0.9726 - binary_accuracy: 0.9137 - recall: 0.8930 - precision: 0.7294 - val_loss: 1.0542 - val_auc: 0.8058 - val_binary_accuracy: 0.8331 - val_recall: 0.7225 - val_precision: 0.5766\n",
      "Epoch 9/20\n",
      "2651/2651 [==============================] - 22s 8ms/step - loss: 0.1918 - auc: 0.9735 - binary_accuracy: 0.9155 - recall: 0.8949 - precision: 0.7340 - val_loss: 1.1535 - val_auc: 0.7985 - val_binary_accuracy: 0.8368 - val_recall: 0.7037 - val_precision: 0.5876\n",
      "Epoch 10/20\n",
      "2651/2651 [==============================] - 22s 8ms/step - loss: 0.1880 - auc: 0.9743 - binary_accuracy: 0.9171 - recall: 0.8962 - precision: 0.7385 - val_loss: 1.1878 - val_auc: 0.7995 - val_binary_accuracy: 0.8404 - val_recall: 0.6954 - val_precision: 0.5977\n",
      "Epoch 11/20\n",
      "2651/2651 [==============================] - 22s 8ms/step - loss: 0.1854 - auc: 0.9749 - binary_accuracy: 0.9185 - recall: 0.8974 - precision: 0.7424 - val_loss: 1.1544 - val_auc: 0.7980 - val_binary_accuracy: 0.8316 - val_recall: 0.7130 - val_precision: 0.5743\n",
      "Epoch 12/20\n",
      "2651/2651 [==============================] - 22s 8ms/step - loss: 0.1828 - auc: 0.9754 - binary_accuracy: 0.9194 - recall: 0.8985 - precision: 0.7450 - val_loss: 1.2214 - val_auc: 0.7961 - val_binary_accuracy: 0.8358 - val_recall: 0.7142 - val_precision: 0.5836\n",
      "Epoch 13/20\n",
      "2651/2651 [==============================] - 22s 8ms/step - loss: 0.1801 - auc: 0.9759 - binary_accuracy: 0.9206 - recall: 0.8994 - precision: 0.7480 - val_loss: 1.2358 - val_auc: 0.7946 - val_binary_accuracy: 0.8376 - val_recall: 0.6934 - val_precision: 0.5910\n",
      "Epoch 14/20\n",
      "2651/2651 [==============================] - 22s 8ms/step - loss: 0.1774 - auc: 0.9765 - binary_accuracy: 0.9219 - recall: 0.9007 - precision: 0.7517 - val_loss: 1.2368 - val_auc: 0.7982 - val_binary_accuracy: 0.8369 - val_recall: 0.7040 - val_precision: 0.5877\n",
      "Epoch 15/20\n",
      "2651/2651 [==============================] - 22s 8ms/step - loss: 0.1752 - auc: 0.9769 - binary_accuracy: 0.9229 - recall: 0.9015 - precision: 0.7546 - val_loss: 1.2850 - val_auc: 0.7972 - val_binary_accuracy: 0.8397 - val_recall: 0.6961 - val_precision: 0.5957\n",
      "Epoch 16/20\n",
      "2651/2651 [==============================] - 22s 8ms/step - loss: 0.1739 - auc: 0.9772 - binary_accuracy: 0.9234 - recall: 0.9024 - precision: 0.7560 - val_loss: 1.2910 - val_auc: 0.7952 - val_binary_accuracy: 0.8345 - val_recall: 0.7012 - val_precision: 0.5825\n",
      "Epoch 17/20\n",
      "2651/2651 [==============================] - 21s 8ms/step - loss: 0.1715 - auc: 0.9776 - binary_accuracy: 0.9245 - recall: 0.9032 - precision: 0.7589 - val_loss: 1.3053 - val_auc: 0.7911 - val_binary_accuracy: 0.8325 - val_recall: 0.7044 - val_precision: 0.5773\n",
      "Epoch 18/20\n",
      "2651/2651 [==============================] - 22s 8ms/step - loss: 0.1701 - auc: 0.9779 - binary_accuracy: 0.9252 - recall: 0.9039 - precision: 0.7613 - val_loss: 1.2881 - val_auc: 0.7947 - val_binary_accuracy: 0.8334 - val_recall: 0.7079 - val_precision: 0.5790\n",
      "Epoch 19/20\n",
      "2651/2651 [==============================] - 22s 8ms/step - loss: 0.1692 - auc: 0.9781 - binary_accuracy: 0.9256 - recall: 0.9039 - precision: 0.7621 - val_loss: 1.3742 - val_auc: 0.7906 - val_binary_accuracy: 0.8352 - val_recall: 0.6981 - val_precision: 0.5846\n",
      "Epoch 20/20\n",
      "2651/2651 [==============================] - 21s 8ms/step - loss: 0.1687 - auc: 0.9782 - binary_accuracy: 0.9260 - recall: 0.9048 - precision: 0.7634 - val_loss: 1.3510 - val_auc: 0.7964 - val_binary_accuracy: 0.8382 - val_recall: 0.6949 - val_precision: 0.5923\n",
      "0.6748405694961548\n"
     ]
    }
   ],
   "source": [
    "mlpModel.compile(optimizer=Adam(lr=1e-3), loss=loss, metrics=metrics)\n",
    "mlpModel.summary()\n",
    "\n",
    "save_best_model = SaveBestModel('val_loss',False)\n",
    "mlpModel.fit(X_train,y_train, batch_size=batch_size, epochs=20, verbose=1, callbacks=[save_best_model], validation_data=(X_val,y_val))\n",
    "best_model_weights = save_best_model.best_model_weights\n",
    "print(save_best_model.best)"
   ]
  },
  {
   "cell_type": "code",
   "execution_count": 54,
   "metadata": {},
   "outputs": [
    {
     "name": "stdout",
     "output_type": "stream",
     "text": [
      "0.4942478028701414\n",
      "(0.5013035654863197, 0.5916666666666667, array([0.51604332, 0.44447088, 0.52404717, 0.58320476, 0.70805253,\n",
      "       0.72693301, 0.6950011 , 0.32262834, 0.15273545, 0.16133106,\n",
      "       0.82544436, 0.35575082]), array([0.7, 0.7, 0.7, 0.4, 0.5, 0.5, 0.6, 0.8, 0.6, 0.9, 0.2, 0.5]), array([0.86599781, 0.90572094, 0.84490934, 0.77399986, 0.74561498,\n",
      "       0.79577917, 0.84695942, 0.94862236, 0.92392718, 0.94934909,\n",
      "       0.75133233, 0.83620659]))\n",
      "Best weights:\n",
      "0.49556686087276947\n",
      "(0.5291290387995752, 0.6749999999999999, array([0.5589234 , 0.46158495, 0.5535661 , 0.61873531, 0.73861687,\n",
      "       0.7435496 , 0.72794563, 0.34284344, 0.19011839, 0.21411149,\n",
      "       0.8340475 , 0.36550579]), array([0.7, 0.8, 0.7, 0.6, 0.5, 0.6, 0.7, 0.9, 0.8, 0.8, 0.3, 0.7]), array([0.87326057, 0.90807831, 0.86248082, 0.80650284, 0.77540396,\n",
      "       0.80970133, 0.86512978, 0.950816  , 0.9424609 , 0.94001606,\n",
      "       0.76927839, 0.84234562]))\n"
     ]
    }
   ],
   "source": [
    "print_au()\n",
    "print('Best weights:')\n",
    "mlpModel.set_weights(best_model_weights)\n",
    "print_au()"
   ]
  },
  {
   "cell_type": "code",
   "execution_count": 46,
   "metadata": {},
   "outputs": [
    {
     "name": "stdout",
     "output_type": "stream",
     "text": [
      "0.507568027779308\n",
      "(0.5367145284583944, 0.65, array([0.56438654, 0.47163507, 0.57207889, 0.61677155, 0.74818918,\n",
      "       0.74534595, 0.71942028, 0.35743029, 0.19360184, 0.24140214,\n",
      "       0.83680711, 0.37350551]), array([0.8, 0.8, 0.7, 0.5, 0.5, 0.5, 0.6, 0.8, 0.8, 0.8, 0.3, 0.7]), array([0.8884859 , 0.90530374, 0.8692748 , 0.79757579, 0.78782557,\n",
      "       0.80682583, 0.8569631 , 0.94949937, 0.94323473, 0.95116814,\n",
      "       0.77594452, 0.85026333]))\n"
     ]
    }
   ],
   "source": [
    "if False:\n",
    "    #mlpModel.save_weights('au_enet0_7.h5') #0.4992152981157956   with thresholds 0.5228919921944153/0.5228095834398018\n",
    "    mlpModel.save_weights('au_enet0_vgaf.h5') #0.507568027779308\n",
    "else:\n",
    "    mlpModel.load_weights('au_enet0_vgaf.h5')\n",
    "    print_au()"
   ]
  },
  {
   "cell_type": "code",
   "execution_count": 47,
   "metadata": {},
   "outputs": [
    {
     "name": "stdout",
     "output_type": "stream",
     "text": [
      "0.5367145284583944\n"
     ]
    }
   ],
   "source": [
    "pred=mlpModel.predict(X_val)\n",
    "#thresholds=0.5\n",
    "#thresholds=np.array([0.7, 0.8, 0.7, 0.6, 0.5, 0.5, 0.6, 0.8, 0.7, 0.8, 0.3, 0.7]) #au_enet0_7 - 0.5228095834398018\n",
    "thresholds=np.array([0.8, 0.8, 0.7, 0.5, 0.5, 0.5, 0.6, 0.8, 0.8, 0.8, 0.3, 0.7]) #vgaf 0.5367145284583944\n",
    "new_pred = ((pred >= thresholds) * 1)\n",
    "print(np.mean([f1_score(y_true=y_val[:,i],y_pred=new_pred[:,i]) for i in range(pred.shape[1])]))"
   ]
  },
  {
   "cell_type": "markdown",
   "metadata": {},
   "source": [
    "### Save test results"
   ]
  },
  {
   "cell_type": "code",
   "execution_count": 48,
   "metadata": {},
   "outputs": [
    {
     "name": "stdout",
     "output_type": "stream",
     "text": [
      "141 ['2-30-640x360', '3-25-1920x1080', '6-30-1920x1080_left', '6-30-1920x1080_right', '11-24-1920x1080']\n"
     ]
    }
   ],
   "source": [
    "with open(os.path.join(DATA_DIR,'Action_Unit_Detection_Challenge_test_set_release.txt'),'r') as f:\n",
    "    test_set_videos=f.read().splitlines()\n",
    "print(len(test_set_videos),test_set_videos[:5])"
   ]
  },
  {
   "cell_type": "code",
   "execution_count": 49,
   "metadata": {},
   "outputs": [
    {
     "name": "stdout",
     "output_type": "stream",
     "text": [
      "141\n"
     ]
    }
   ],
   "source": [
    "data_dir=os.path.join(DATA_DIR,'cropped')\n",
    "test_videos={}\n",
    "for videoname in os.listdir(data_dir):\n",
    "    #if videoname not in train_val_videos:\n",
    "    if videoname in test_set_videos:\n",
    "        X,indices=[],[]\n",
    "        images=[img_name for img_name in os.listdir(os.path.join(data_dir,videoname)) if img_name.lower().endswith('.jpg')]\n",
    "        for img_name in sorted(images, key=compare_filenames):\n",
    "            k=videoname+'/'+img_name\n",
    "            if k in filename2featuresAll:\n",
    "                X.append(filename2featuresAll[k][0])\n",
    "                indices.append(int(img_name[:-4]))\n",
    "        test_videos[videoname]=(mlpModel.predict(np.array(X)),indices)\n",
    "print(len(test_videos))"
   ]
  },
  {
   "cell_type": "code",
   "execution_count": 50,
   "metadata": {},
   "outputs": [
    {
     "name": "stderr",
     "output_type": "stream",
     "text": [
      "100%|██████████| 141/141 [00:37<00:00,  3.72it/s]\n"
     ]
    }
   ],
   "source": [
    "delta=7 #0 2 4 7\n",
    "resdir=os.path.join(DATA_DIR,'test_results/4_smooth15/AU')\n",
    "if not os.path.exists(resdir):\n",
    "    os.makedirs(resdir)\n",
    "header = 'AU1,AU2,AU4,AU6,AU7,AU10,AU12,AU15,AU23,AU24,AU25,AU26\\n'\n",
    "\n",
    "for videoname,(y_pred_aus,indices) in tqdm(test_videos.items()):\n",
    "    #if videoname!='video32':\n",
    "    #    continue\n",
    "    #y_pred_aus=mlpModel.predict(X)\n",
    "    #print(len(indices),indices[-1],indices[0])\n",
    "    #print(y_pred_aus.shape)\n",
    "    cur_ind=0\n",
    "    preds=[]\n",
    "    for i in range(indices[-1]):\n",
    "        if indices[cur_ind]-1==i:\n",
    "            preds.append(y_pred_aus[cur_ind])\n",
    "            cur_ind+=1\n",
    "        else:\n",
    "            if cur_ind==0:\n",
    "                preds.append(y_pred_aus[cur_ind])\n",
    "            \n",
    "            else:\n",
    "                w=(i-indices[cur_ind-1]+1)/(indices[cur_ind]-indices[cur_ind-1])\n",
    "                pred=w*y_pred_aus[cur_ind-1]+(1-w)*y_pred_aus[cur_ind]\n",
    "                preds.append(pred)\n",
    "                \n",
    "    pred=y_pred_aus[cur_ind-1]\n",
    "    if videoname.endswith('_left'):\n",
    "        videoname=videoname[:-5]\n",
    "    elif videoname.endswith('_right'):\n",
    "        videoname=videoname[:-6]\n",
    "    for _ in range(indices[-1],video2len[videoname]):\n",
    "        preds.append(pred)\n",
    "    \n",
    "    preds=np.array(preds)\n",
    "    with open(os.path.join(resdir,videoname+'.txt'), 'w') as f:\n",
    "        f.write(header)\n",
    "        for i in range(len(preds)):\n",
    "            i1=max(i-delta,0)\n",
    "            pred=preds[i1:i+delta+1].mean(axis=0)\n",
    "            aus=(pred>=thresholds)*1\n",
    "            f.write(','.join(map(str,aus))+'\\n')"
   ]
  },
  {
   "cell_type": "markdown",
   "metadata": {},
   "source": [
    "## Multi-task challenge "
   ]
  },
  {
   "cell_type": "code",
   "execution_count": 27,
   "metadata": {},
   "outputs": [
    {
     "name": "stdout",
     "output_type": "stream",
     "text": [
      "(142225, 1416) (142225, 2) (142225,) (142225, 12) (142225,) 2666\n",
      "(26876, 1416) (26876, 2) (26876,) (26876, 12) (26876,) 211\n"
     ]
    }
   ],
   "source": [
    "def get_image2all(filename):\n",
    "    with open(os.path.join(DATA_DIR,'Third ABAW Annotations/MTL_Challenge/'+filename)) as f:\n",
    "        mtl_lines = f.read().splitlines()\n",
    "    num_missed=0\n",
    "    X,y_va,y_expr,y_aus=[],[],[],[]\n",
    "    masks_va,masks_expr,masks_aus=[],[],[]\n",
    "    for line in mtl_lines[1:]:\n",
    "        splitted_line=line.split(',')\n",
    "        imagename=splitted_line[0]\n",
    "        valence=float(splitted_line[1])\n",
    "        arousal=float(splitted_line[2])\n",
    "        expression=int(splitted_line[3])\n",
    "        aus=list(map(int,splitted_line[4:]))\n",
    "        \n",
    "        mask_VA=(valence>-5 and arousal>-5)\n",
    "        if not mask_VA:\n",
    "            valence=arousal=0\n",
    "            \n",
    "        mask_expr=(expression>-1)\n",
    "        if not mask_expr:\n",
    "            expression=0\n",
    "            \n",
    "        mask_aus=min(aus)>=0\n",
    "        if not mask_aus:\n",
    "            aus=[0]*len(aus)\n",
    "        #print(imagename,valence,arousal,expression,aus)\n",
    "        if mask_VA or mask_expr or mask_aus:\n",
    "            if imagename in filename2featuresAll:\n",
    "                #X.append(filename2featuresAll[imagename][0])\n",
    "                X.append(np.concatenate((filename2featuresAll[imagename][0],filename2featuresAll[imagename][1])))\n",
    "                y_va.append((valence,arousal))\n",
    "                masks_va.append(mask_VA)\n",
    "                \n",
    "                y_expr.append(expression)\n",
    "                masks_expr.append(mask_expr)\n",
    "                \n",
    "                y_aus.append(aus)\n",
    "                masks_aus.append(mask_aus)\n",
    "            else:\n",
    "                num_missed+=1\n",
    "        #elif (valence==-5 or arousal==-5) and valence!=arousal:\n",
    "        #    print(valence,arousal)\n",
    "    X=np.array(X)\n",
    "    y_va=np.array(y_va)\n",
    "    y_expr=np.array(y_expr)\n",
    "    y_aus=np.array(y_aus)\n",
    "    masks_va=np.array(masks_va).astype(np.float32)\n",
    "    masks_expr=np.array(masks_expr).astype(np.float32)\n",
    "    masks_aus=np.array(masks_aus).astype(np.float32)\n",
    "    print(X.shape,y_va.shape,y_expr.shape,y_aus.shape,masks_va.shape,num_missed)\n",
    "    return X,y_va,y_expr,y_aus,masks_va,masks_expr,masks_aus\n",
    "\n",
    "X_train,y_va_train,y_expr_train,y_aus_train,masks_va_train,masks_expr_train,masks_aus_train=get_image2all('train_set.txt')\n",
    "X_val,y_va_val,y_expr_val,y_aus_val,masks_va_val,masks_expr_val,masks_aus_val=get_image2all('validation_set.txt')"
   ]
  },
  {
   "cell_type": "code",
   "execution_count": 23,
   "metadata": {},
   "outputs": [
    {
     "name": "stdout",
     "output_type": "stream",
     "text": [
      "[23958  4555  3292  3122 18141  7482  5258 24852] {0: 1.0373153017781116, 1: 5.455982436882547, 2: 7.54921020656136, 3: 7.960281870595772, 4: 1.3699355052091946, 5: 3.321571772253408, 6: 4.7265119817421075, 7: 1.0} 8 [0 1 2 3 4 5 6 7]\n",
      "[1.0373153  5.45598244 7.54921021 7.96028187 1.36993551 3.32157177\n",
      " 4.72651198 1.        ]\n"
     ]
    }
   ],
   "source": [
    "(unique, counts) = np.unique(y_expr_train[masks_expr_train==1.].astype(int), return_counts=True)\n",
    "num_classes=len(unique)\n",
    "emo_cw=1/counts\n",
    "emo_cw/=emo_cw.min()\n",
    "emo_class_weights = {i:cwi for i,cwi in zip(unique,emo_cw)}\n",
    "print(counts, emo_class_weights, num_classes, unique)\n",
    "print(emo_cw)"
   ]
  },
  {
   "cell_type": "code",
   "execution_count": 24,
   "metadata": {},
   "outputs": [
    {
     "name": "stdout",
     "output_type": "stream",
     "text": [
      "12\n",
      "[[ 0.61103657  2.75151045]\n",
      " [ 0.54642804  5.88467696]\n",
      " [ 0.62178604  2.5527804 ]\n",
      " [ 0.70912912  1.69543373]\n",
      " [ 0.83358711  1.24942945]\n",
      " [ 0.79504233  1.34733604]\n",
      " [ 0.67451569  1.93253596]\n",
      " [ 0.51219743 20.99612403]\n",
      " [ 0.51475913 17.43866486]\n",
      " [ 0.52554636 10.28612832]\n",
      " [ 1.57519131  0.73251676]\n",
      " [ 0.55806602  4.80544402]]\n"
     ]
    }
   ],
   "source": [
    "num_labels=y_aus_train.shape[1]\n",
    "print(num_labels)\n",
    "from sklearn.utils.class_weight import compute_class_weight\n",
    "aus_class_weights = np.empty([num_labels, 2])\n",
    "for i in range(num_labels):\n",
    "    neg, pos = np.bincount(y_aus_train[masks_aus_train==1., i])\n",
    "    total = neg + pos\n",
    "    weight_for_0 = (1 / neg) * (total / 2.0)\n",
    "    weight_for_1 = (1 / pos) * (total / 2.0)\n",
    "\n",
    "    aus_class_weights[i][0]=weight_for_0\n",
    "    aus_class_weights[i][1]=weight_for_1\n",
    "    #aus_class_weights[i] = compute_class_weight('balanced', [0,1], y_train[:, i])\n",
    "print(aus_class_weights)"
   ]
  },
  {
   "cell_type": "code",
   "execution_count": 25,
   "metadata": {},
   "outputs": [],
   "source": [
    "def loss_va(y_true, y_pred):\n",
    "    res=1-0.5*(CCC(y_true[:,0], y_pred[:,0])+CCC(y_true[:,1], y_pred[:,1]))\n",
    "    #res=K.mean((y_true[:,0] - y_pred[:,0]) * (y_true[:,0] - y_pred[:,0]))+K.mean((y_true[:,1] - y_pred[:,1]) * (y_true[:,1] - y_pred[:,1]))\n",
    "    #print(res)\n",
    "    return res"
   ]
  },
  {
   "cell_type": "code",
   "execution_count": 26,
   "metadata": {},
   "outputs": [],
   "source": [
    "class WeightedExprSCCE(tf.keras.losses.Loss):\n",
    "    def __init__(self, class_weight, from_logits=False, name='expr_scce'):\n",
    "        if class_weight is None or all(v == 1. for v in class_weight):\n",
    "            self.class_weight = None\n",
    "        else:\n",
    "            self.class_weight = tf.convert_to_tensor(class_weight,\n",
    "                dtype=tf.float32)\n",
    "        self.reduction = tf.keras.losses.Reduction.NONE\n",
    "        self.unreduced_scce = tf.keras.losses.SparseCategoricalCrossentropy(\n",
    "            from_logits=from_logits, name=name,\n",
    "            reduction=self.reduction)\n",
    "\n",
    "    def __call__(self, y_true, y_pred, sample_weight=None):\n",
    "        loss = self.unreduced_scce(y_true, y_pred, sample_weight)\n",
    "        if self.class_weight is not None:\n",
    "            weight_mask = tf.gather(self.class_weight, y_true)\n",
    "            loss = tf.math.multiply(loss, weight_mask)\n",
    "        loss=K.mean(loss)\n",
    "        return loss\n",
    "loss_expr=WeightedExprSCCE(emo_cw)"
   ]
  },
  {
   "cell_type": "code",
   "execution_count": 27,
   "metadata": {},
   "outputs": [],
   "source": [
    "def get_weighted_loss_aus(weights):\n",
    "    def weighted_loss(y_true, y_pred):\n",
    "        y_true=tf.cast(y_true, tf.float32)\n",
    "        ce=K.binary_crossentropy(y_true, y_pred)\n",
    "        res=K.mean((weights[:,0]**(1-y_true))*(weights[:,1]**(y_true))*ce)#, axis=-1)\n",
    "        #print(res)\n",
    "        return res\n",
    "    return weighted_loss\n",
    "loss_aus=get_weighted_loss_aus(aus_class_weights)"
   ]
  },
  {
   "cell_type": "code",
   "execution_count": 28,
   "metadata": {},
   "outputs": [],
   "source": [
    "metrics=[tf.keras.metrics.AUC(multi_label=True,name='auc'), tf.keras.metrics.BinaryAccuracy(),tf.keras.metrics.Recall(),tf.keras.metrics.Precision()] # "
   ]
  },
  {
   "cell_type": "code",
   "execution_count": 28,
   "metadata": {},
   "outputs": [],
   "source": [
    "batch_size=256 #128\n",
    "img = tf.keras.Input(shape=X_train.shape[1:])\n",
    "mask1 = tf.keras.Input(shape=(1,))\n",
    "mask2 = tf.keras.Input(shape=(1,))\n",
    "mask3 = tf.keras.Input(shape=(1,))\n",
    "x=img\n",
    "#x=Dense(128, activation='relu',kernel_regularizer=tf.keras.regularizers.l2(1.0/batch_size))(x)\n",
    "va_out = Dense(2, activation='tanh',kernel_regularizer=tf.keras.regularizers.l2(1.0/batch_size))(x)\n",
    "va_out_masked=tf.keras.layers.Multiply(name='va_out')([va_out,mask1])\n",
    "\n",
    "#x=va_out\n",
    "\n",
    "expr_out=Dense(8, activation='softmax',kernel_regularizer=tf.keras.regularizers.l2(1.0/batch_size))(x)\n",
    "expr_out_masked=tf.keras.layers.Multiply(name='expr_out')([expr_out,mask2])\n",
    "aus_out=Dense(12, activation='sigmoid',kernel_regularizer=tf.keras.regularizers.l2(1.0/batch_size))(x)\n",
    "aus_out_masked=tf.keras.layers.Multiply(name='aus_out')([aus_out,mask3])\n",
    "\n",
    "mtlModel=tf.keras.Model(inputs=[img,mask1,mask2,mask3], outputs=[va_out_masked, expr_out_masked,aus_out_masked])"
   ]
  },
  {
   "cell_type": "code",
   "execution_count": 46,
   "metadata": {},
   "outputs": [
    {
     "name": "stdout",
     "output_type": "stream",
     "text": [
      "Model: \"model_3\"\n",
      "__________________________________________________________________________________________________\n",
      "Layer (type)                    Output Shape         Param #     Connected to                     \n",
      "==================================================================================================\n",
      "input_13 (InputLayer)           [(None, 1408)]       0                                            \n",
      "__________________________________________________________________________________________________\n",
      "dense_10 (Dense)                (None, 128)          180352      input_13[0][0]                   \n",
      "__________________________________________________________________________________________________\n",
      "dense_11 (Dense)                (None, 2)            258         dense_10[0][0]                   \n",
      "__________________________________________________________________________________________________\n",
      "input_14 (InputLayer)           [(None, 1)]          0                                            \n",
      "__________________________________________________________________________________________________\n",
      "dense_12 (Dense)                (None, 8)            1032        dense_10[0][0]                   \n",
      "__________________________________________________________________________________________________\n",
      "input_15 (InputLayer)           [(None, 1)]          0                                            \n",
      "__________________________________________________________________________________________________\n",
      "dense_13 (Dense)                (None, 12)           1548        dense_10[0][0]                   \n",
      "__________________________________________________________________________________________________\n",
      "input_16 (InputLayer)           [(None, 1)]          0                                            \n",
      "__________________________________________________________________________________________________\n",
      "va_out (Multiply)               (None, 2)            0           dense_11[0][0]                   \n",
      "                                                                 input_14[0][0]                   \n",
      "__________________________________________________________________________________________________\n",
      "expr_out (Multiply)             (None, 8)            0           dense_12[0][0]                   \n",
      "                                                                 input_15[0][0]                   \n",
      "__________________________________________________________________________________________________\n",
      "aus_out (Multiply)              (None, 12)           0           dense_13[0][0]                   \n",
      "                                                                 input_16[0][0]                   \n",
      "==================================================================================================\n",
      "Total params: 183,190\n",
      "Trainable params: 183,190\n",
      "Non-trainable params: 0\n",
      "__________________________________________________________________________________________________\n",
      "Epoch 1/20\n",
      "556/556 [==============================] - 8s 12ms/step - loss: 4.0392 - va_out_loss: 0.3903 - expr_out_loss: 2.6164 - aus_out_loss: 0.4116 - va_out_mean_absolute_error: 0.2153 - expr_out_accuracy: 0.7520 - aus_out_aus_out_aus_out_aus_out_auc: 0.8345 - aus_out_aus_out_aus_out_aus_out_binary_accuracy: 0.7912 - aus_out_aus_out_aus_out_aus_out_recall: 0.6874 - aus_out_aus_out_aus_out_aus_out_precision: 0.4712 - val_loss: 5.8618 - val_va_out_loss: 0.7929 - val_expr_out_loss: 4.1180 - val_aus_out_loss: 0.5910 - val_va_out_mean_absolute_error: 0.2907 - val_expr_out_accuracy: 0.6182 - val_aus_out_aus_out_aus_out_aus_out_auc: 0.7613 - val_aus_out_aus_out_aus_out_aus_out_binary_accuracy: 0.7435 - val_aus_out_aus_out_aus_out_aus_out_recall: 0.6631 - val_aus_out_aus_out_aus_out_aus_out_precision: 0.4922\n",
      "Epoch 2/20\n",
      "556/556 [==============================] - 7s 12ms/step - loss: 3.2422 - va_out_loss: 0.2708 - expr_out_loss: 2.2544 - aus_out_loss: 0.3565 - va_out_mean_absolute_error: 0.1604 - expr_out_accuracy: 0.8321 - aus_out_aus_out_aus_out_aus_out_auc: 0.9028 - aus_out_aus_out_aus_out_aus_out_binary_accuracy: 0.8470 - aus_out_aus_out_aus_out_aus_out_recall: 0.7306 - aus_out_aus_out_aus_out_aus_out_precision: 0.5161 - val_loss: 6.0797 - val_va_out_loss: 0.8026 - val_expr_out_loss: 4.3308 - val_aus_out_loss: 0.5823 - val_va_out_mean_absolute_error: 0.2898 - val_expr_out_accuracy: 0.6204 - val_aus_out_aus_out_aus_out_aus_out_auc: 0.7635 - val_aus_out_aus_out_aus_out_aus_out_binary_accuracy: 0.7301 - val_aus_out_aus_out_aus_out_aus_out_recall: 0.6646 - val_aus_out_aus_out_aus_out_aus_out_precision: 0.4735\n",
      "Epoch 3/20\n",
      "556/556 [==============================] - 7s 12ms/step - loss: 3.2103 - va_out_loss: 0.2650 - expr_out_loss: 2.2225 - aus_out_loss: 0.3556 - va_out_mean_absolute_error: 0.1582 - expr_out_accuracy: 0.8397 - aus_out_aus_out_aus_out_aus_out_auc: 0.9041 - aus_out_aus_out_aus_out_aus_out_binary_accuracy: 0.8434 - aus_out_aus_out_aus_out_aus_out_recall: 0.7356 - aus_out_aus_out_aus_out_aus_out_precision: 0.5097 - val_loss: 6.0021 - val_va_out_loss: 0.7996 - val_expr_out_loss: 4.2533 - val_aus_out_loss: 0.5833 - val_va_out_mean_absolute_error: 0.2888 - val_expr_out_accuracy: 0.6236 - val_aus_out_aus_out_aus_out_aus_out_auc: 0.7641 - val_aus_out_aus_out_aus_out_aus_out_binary_accuracy: 0.7487 - val_aus_out_aus_out_aus_out_aus_out_recall: 0.6663 - val_aus_out_aus_out_aus_out_aus_out_precision: 0.4999\n",
      "Epoch 4/20\n",
      "556/556 [==============================] - 7s 12ms/step - loss: 3.1892 - va_out_loss: 0.2600 - expr_out_loss: 2.2041 - aus_out_loss: 0.3557 - va_out_mean_absolute_error: 0.1558 - expr_out_accuracy: 0.8440 - aus_out_aus_out_aus_out_aus_out_auc: 0.9043 - aus_out_aus_out_aus_out_aus_out_binary_accuracy: 0.8447 - aus_out_aus_out_aus_out_aus_out_recall: 0.7332 - aus_out_aus_out_aus_out_aus_out_precision: 0.5124 - val_loss: 5.9569 - val_va_out_loss: 0.8078 - val_expr_out_loss: 4.1881 - val_aus_out_loss: 0.5873 - val_va_out_mean_absolute_error: 0.3005 - val_expr_out_accuracy: 0.6161 - val_aus_out_aus_out_aus_out_aus_out_auc: 0.7650 - val_aus_out_aus_out_aus_out_aus_out_binary_accuracy: 0.7424 - val_aus_out_aus_out_aus_out_aus_out_recall: 0.6851 - val_aus_out_aus_out_aus_out_aus_out_precision: 0.4910\n",
      "Epoch 5/20\n",
      "556/556 [==============================] - 7s 12ms/step - loss: 3.2147 - va_out_loss: 0.2668 - expr_out_loss: 2.2136 - aus_out_loss: 0.3558 - va_out_mean_absolute_error: 0.1591 - expr_out_accuracy: 0.8422 - aus_out_aus_out_aus_out_aus_out_auc: 0.9043 - aus_out_aus_out_aus_out_aus_out_binary_accuracy: 0.8452 - aus_out_aus_out_aus_out_aus_out_recall: 0.7354 - aus_out_aus_out_aus_out_aus_out_precision: 0.5136 - val_loss: 6.0287 - val_va_out_loss: 0.8050 - val_expr_out_loss: 4.2600 - val_aus_out_loss: 0.5838 - val_va_out_mean_absolute_error: 0.2985 - val_expr_out_accuracy: 0.6161 - val_aus_out_aus_out_aus_out_aus_out_auc: 0.7656 - val_aus_out_aus_out_aus_out_aus_out_binary_accuracy: 0.7509 - val_aus_out_aus_out_aus_out_aus_out_recall: 0.6395 - val_aus_out_aus_out_aus_out_aus_out_precision: 0.5033\n",
      "Epoch 6/20\n",
      "556/556 [==============================] - 7s 12ms/step - loss: 3.1984 - va_out_loss: 0.2623 - expr_out_loss: 2.2034 - aus_out_loss: 0.3556 - va_out_mean_absolute_error: 0.1574 - expr_out_accuracy: 0.8451 - aus_out_aus_out_aus_out_aus_out_auc: 0.9041 - aus_out_aus_out_aus_out_aus_out_binary_accuracy: 0.8458 - aus_out_aus_out_aus_out_aus_out_recall: 0.7349 - aus_out_aus_out_aus_out_aus_out_precision: 0.5164 - val_loss: 6.0851 - val_va_out_loss: 0.7998 - val_expr_out_loss: 4.3132 - val_aus_out_loss: 0.5954 - val_va_out_mean_absolute_error: 0.2930 - val_expr_out_accuracy: 0.6061 - val_aus_out_aus_out_aus_out_aus_out_auc: 0.7631 - val_aus_out_aus_out_aus_out_aus_out_binary_accuracy: 0.7463 - val_aus_out_aus_out_aus_out_aus_out_recall: 0.6696 - val_aus_out_aus_out_aus_out_aus_out_precision: 0.4963\n",
      "Epoch 7/20\n",
      "556/556 [==============================] - 7s 12ms/step - loss: 3.2078 - va_out_loss: 0.2625 - expr_out_loss: 2.2097 - aus_out_loss: 0.3564 - va_out_mean_absolute_error: 0.1585 - expr_out_accuracy: 0.8442 - aus_out_aus_out_aus_out_aus_out_auc: 0.9052 - aus_out_aus_out_aus_out_aus_out_binary_accuracy: 0.8452 - aus_out_aus_out_aus_out_aus_out_recall: 0.7374 - aus_out_aus_out_aus_out_aus_out_precision: 0.5143 - val_loss: 5.9073 - val_va_out_loss: 0.7967 - val_expr_out_loss: 4.1471 - val_aus_out_loss: 0.5836 - val_va_out_mean_absolute_error: 0.2894 - val_expr_out_accuracy: 0.6285 - val_aus_out_aus_out_aus_out_aus_out_auc: 0.7650 - val_aus_out_aus_out_aus_out_aus_out_binary_accuracy: 0.7358 - val_aus_out_aus_out_aus_out_aus_out_recall: 0.6802 - val_aus_out_aus_out_aus_out_aus_out_precision: 0.4818\n",
      "Epoch 8/20\n",
      "556/556 [==============================] - 7s 12ms/step - loss: 3.2290 - va_out_loss: 0.2568 - expr_out_loss: 2.2346 - aus_out_loss: 0.3562 - va_out_mean_absolute_error: 0.1551 - expr_out_accuracy: 0.8434 - aus_out_aus_out_aus_out_aus_out_auc: 0.9046 - aus_out_aus_out_aus_out_aus_out_binary_accuracy: 0.8457 - aus_out_aus_out_aus_out_aus_out_recall: 0.7371 - aus_out_aus_out_aus_out_aus_out_precision: 0.5158 - val_loss: 5.8494 - val_va_out_loss: 0.8194 - val_expr_out_loss: 4.0714 - val_aus_out_loss: 0.5827 - val_va_out_mean_absolute_error: 0.2866 - val_expr_out_accuracy: 0.6198 - val_aus_out_aus_out_aus_out_aus_out_auc: 0.7661 - val_aus_out_aus_out_aus_out_aus_out_binary_accuracy: 0.7589 - val_aus_out_aus_out_aus_out_aus_out_recall: 0.6641 - val_aus_out_aus_out_aus_out_aus_out_precision: 0.5156\n",
      "Epoch 9/20\n",
      "556/556 [==============================] - 7s 12ms/step - loss: 3.1769 - va_out_loss: 0.2546 - expr_out_loss: 2.1903 - aus_out_loss: 0.3537 - va_out_mean_absolute_error: 0.1532 - expr_out_accuracy: 0.8470 - aus_out_aus_out_aus_out_aus_out_auc: 0.9047 - aus_out_aus_out_aus_out_aus_out_binary_accuracy: 0.8474 - aus_out_aus_out_aus_out_aus_out_recall: 0.7353 - aus_out_aus_out_aus_out_aus_out_precision: 0.5167 - val_loss: 5.9729 - val_va_out_loss: 0.8021 - val_expr_out_loss: 4.2121 - val_aus_out_loss: 0.5822 - val_va_out_mean_absolute_error: 0.2818 - val_expr_out_accuracy: 0.6207 - val_aus_out_aus_out_aus_out_aus_out_auc: 0.7665 - val_aus_out_aus_out_aus_out_aus_out_binary_accuracy: 0.7473 - val_aus_out_aus_out_aus_out_aus_out_recall: 0.6677 - val_aus_out_aus_out_aus_out_aus_out_precision: 0.4978\n",
      "Epoch 10/20\n",
      "556/556 [==============================] - 7s 12ms/step - loss: 3.1943 - va_out_loss: 0.2529 - expr_out_loss: 2.2046 - aus_out_loss: 0.3560 - va_out_mean_absolute_error: 0.1535 - expr_out_accuracy: 0.8469 - aus_out_aus_out_aus_out_aus_out_auc: 0.9053 - aus_out_aus_out_aus_out_aus_out_binary_accuracy: 0.8447 - aus_out_aus_out_aus_out_aus_out_recall: 0.7387 - aus_out_aus_out_aus_out_aus_out_precision: 0.5149 - val_loss: 6.0754 - val_va_out_loss: 0.8088 - val_expr_out_loss: 4.3030 - val_aus_out_loss: 0.5848 - val_va_out_mean_absolute_error: 0.2879 - val_expr_out_accuracy: 0.6177 - val_aus_out_aus_out_aus_out_aus_out_auc: 0.7632 - val_aus_out_aus_out_aus_out_aus_out_binary_accuracy: 0.7366 - val_aus_out_aus_out_aus_out_aus_out_recall: 0.6673 - val_aus_out_aus_out_aus_out_aus_out_precision: 0.4824\n",
      "Epoch 11/20\n",
      "556/556 [==============================] - 7s 12ms/step - loss: 3.1933 - va_out_loss: 0.2524 - expr_out_loss: 2.2050 - aus_out_loss: 0.3544 - va_out_mean_absolute_error: 0.1530 - expr_out_accuracy: 0.8468 - aus_out_aus_out_aus_out_aus_out_auc: 0.9059 - aus_out_aus_out_aus_out_aus_out_binary_accuracy: 0.8453 - aus_out_aus_out_aus_out_aus_out_recall: 0.7397 - aus_out_aus_out_aus_out_aus_out_precision: 0.5147 - val_loss: 6.0988 - val_va_out_loss: 0.8070 - val_expr_out_loss: 4.3256 - val_aus_out_loss: 0.5844 - val_va_out_mean_absolute_error: 0.2847 - val_expr_out_accuracy: 0.6276 - val_aus_out_aus_out_aus_out_aus_out_auc: 0.7653 - val_aus_out_aus_out_aus_out_aus_out_binary_accuracy: 0.7406 - val_aus_out_aus_out_aus_out_aus_out_recall: 0.6562 - val_aus_out_aus_out_aus_out_aus_out_precision: 0.4879\n",
      "Epoch 12/20\n",
      "556/556 [==============================] - 7s 12ms/step - loss: 3.1694 - va_out_loss: 0.2503 - expr_out_loss: 2.1848 - aus_out_loss: 0.3535 - va_out_mean_absolute_error: 0.1514 - expr_out_accuracy: 0.8467 - aus_out_aus_out_aus_out_aus_out_auc: 0.9050 - aus_out_aus_out_aus_out_aus_out_binary_accuracy: 0.8448 - aus_out_aus_out_aus_out_aus_out_recall: 0.7360 - aus_out_aus_out_aus_out_aus_out_precision: 0.5129 - val_loss: 5.9928 - val_va_out_loss: 0.7936 - val_expr_out_loss: 4.2355 - val_aus_out_loss: 0.5830 - val_va_out_mean_absolute_error: 0.2839 - val_expr_out_accuracy: 0.6277 - val_aus_out_aus_out_aus_out_aus_out_auc: 0.7627 - val_aus_out_aus_out_aus_out_aus_out_binary_accuracy: 0.7493 - val_aus_out_aus_out_aus_out_aus_out_recall: 0.6748 - val_aus_out_aus_out_aus_out_aus_out_precision: 0.5008\n",
      "Epoch 13/20\n",
      "556/556 [==============================] - 7s 12ms/step - loss: 3.1890 - va_out_loss: 0.2576 - expr_out_loss: 2.1937 - aus_out_loss: 0.3557 - va_out_mean_absolute_error: 0.1551 - expr_out_accuracy: 0.8492 - aus_out_aus_out_aus_out_aus_out_auc: 0.9057 - aus_out_aus_out_aus_out_aus_out_binary_accuracy: 0.8452 - aus_out_aus_out_aus_out_aus_out_recall: 0.7400 - aus_out_aus_out_aus_out_aus_out_precision: 0.5161 - val_loss: 5.9953 - val_va_out_loss: 0.8028 - val_expr_out_loss: 4.2263 - val_aus_out_loss: 0.5827 - val_va_out_mean_absolute_error: 0.2880 - val_expr_out_accuracy: 0.6187 - val_aus_out_aus_out_aus_out_aus_out_auc: 0.7670 - val_aus_out_aus_out_aus_out_aus_out_binary_accuracy: 0.7600 - val_aus_out_aus_out_aus_out_aus_out_recall: 0.6579 - val_aus_out_aus_out_aus_out_aus_out_precision: 0.5175\n",
      "Epoch 14/20\n",
      "556/556 [==============================] - 7s 12ms/step - loss: 3.1721 - va_out_loss: 0.2537 - expr_out_loss: 2.1831 - aus_out_loss: 0.3522 - va_out_mean_absolute_error: 0.1527 - expr_out_accuracy: 0.8478 - aus_out_aus_out_aus_out_aus_out_auc: 0.9053 - aus_out_aus_out_aus_out_aus_out_binary_accuracy: 0.8483 - aus_out_aus_out_aus_out_aus_out_recall: 0.7326 - aus_out_aus_out_aus_out_aus_out_precision: 0.5196 - val_loss: 5.9401 - val_va_out_loss: 0.8043 - val_expr_out_loss: 4.1661 - val_aus_out_loss: 0.5816 - val_va_out_mean_absolute_error: 0.2946 - val_expr_out_accuracy: 0.6201 - val_aus_out_aus_out_aus_out_aus_out_auc: 0.7662 - val_aus_out_aus_out_aus_out_aus_out_binary_accuracy: 0.7449 - val_aus_out_aus_out_aus_out_aus_out_recall: 0.6732 - val_aus_out_aus_out_aus_out_aus_out_precision: 0.4943\n",
      "Epoch 15/20\n",
      "556/556 [==============================] - 7s 12ms/step - loss: 3.1760 - va_out_loss: 0.2504 - expr_out_loss: 2.1856 - aus_out_loss: 0.3546 - va_out_mean_absolute_error: 0.1513 - expr_out_accuracy: 0.8504 - aus_out_aus_out_aus_out_aus_out_auc: 0.9056 - aus_out_aus_out_aus_out_aus_out_binary_accuracy: 0.8446 - aus_out_aus_out_aus_out_aus_out_recall: 0.7384 - aus_out_aus_out_aus_out_aus_out_precision: 0.5129 - val_loss: 6.0932 - val_va_out_loss: 0.8079 - val_expr_out_loss: 4.3181 - val_aus_out_loss: 0.5826 - val_va_out_mean_absolute_error: 0.2849 - val_expr_out_accuracy: 0.6157 - val_aus_out_aus_out_aus_out_aus_out_auc: 0.7658 - val_aus_out_aus_out_aus_out_aus_out_binary_accuracy: 0.7516 - val_aus_out_aus_out_aus_out_aus_out_recall: 0.6467 - val_aus_out_aus_out_aus_out_aus_out_precision: 0.5044\n",
      "Epoch 16/20\n",
      "556/556 [==============================] - 7s 12ms/step - loss: 3.1644 - va_out_loss: 0.2499 - expr_out_loss: 2.1767 - aus_out_loss: 0.3539 - va_out_mean_absolute_error: 0.1515 - expr_out_accuracy: 0.8481 - aus_out_aus_out_aus_out_aus_out_auc: 0.9050 - aus_out_aus_out_aus_out_aus_out_binary_accuracy: 0.8455 - aus_out_aus_out_aus_out_aus_out_recall: 0.7382 - aus_out_aus_out_aus_out_aus_out_precision: 0.5151 - val_loss: 5.9249 - val_va_out_loss: 0.8031 - val_expr_out_loss: 4.1629 - val_aus_out_loss: 0.5794 - val_va_out_mean_absolute_error: 0.2849 - val_expr_out_accuracy: 0.6222 - val_aus_out_aus_out_aus_out_aus_out_auc: 0.7657 - val_aus_out_aus_out_aus_out_aus_out_binary_accuracy: 0.7341 - val_aus_out_aus_out_aus_out_aus_out_recall: 0.6796 - val_aus_out_aus_out_aus_out_aus_out_precision: 0.4794\n",
      "Epoch 17/20\n"
     ]
    },
    {
     "name": "stdout",
     "output_type": "stream",
     "text": [
      "556/556 [==============================] - 7s 12ms/step - loss: 3.1504 - va_out_loss: 0.2458 - expr_out_loss: 2.1705 - aus_out_loss: 0.3520 - va_out_mean_absolute_error: 0.1503 - expr_out_accuracy: 0.8510 - aus_out_aus_out_aus_out_aus_out_auc: 0.9057 - aus_out_aus_out_aus_out_aus_out_binary_accuracy: 0.8472 - aus_out_aus_out_aus_out_aus_out_recall: 0.7388 - aus_out_aus_out_aus_out_aus_out_precision: 0.5178 - val_loss: 5.8400 - val_va_out_loss: 0.7938 - val_expr_out_loss: 4.0787 - val_aus_out_loss: 0.5843 - val_va_out_mean_absolute_error: 0.2915 - val_expr_out_accuracy: 0.6219 - val_aus_out_aus_out_aus_out_aus_out_auc: 0.7628 - val_aus_out_aus_out_aus_out_aus_out_binary_accuracy: 0.7447 - val_aus_out_aus_out_aus_out_aus_out_recall: 0.6654 - val_aus_out_aus_out_aus_out_aus_out_precision: 0.4939\n",
      "Epoch 18/20\n",
      "556/556 [==============================] - 7s 12ms/step - loss: 3.1657 - va_out_loss: 0.2482 - expr_out_loss: 2.1798 - aus_out_loss: 0.3532 - va_out_mean_absolute_error: 0.1511 - expr_out_accuracy: 0.8495 - aus_out_aus_out_aus_out_aus_out_auc: 0.9056 - aus_out_aus_out_aus_out_aus_out_binary_accuracy: 0.8463 - aus_out_aus_out_aus_out_aus_out_recall: 0.7406 - aus_out_aus_out_aus_out_aus_out_precision: 0.5177 - val_loss: 5.9866 - val_va_out_loss: 0.7983 - val_expr_out_loss: 4.2203 - val_aus_out_loss: 0.5845 - val_va_out_mean_absolute_error: 0.2925 - val_expr_out_accuracy: 0.6151 - val_aus_out_aus_out_aus_out_aus_out_auc: 0.7621 - val_aus_out_aus_out_aus_out_aus_out_binary_accuracy: 0.7465 - val_aus_out_aus_out_aus_out_aus_out_recall: 0.6663 - val_aus_out_aus_out_aus_out_aus_out_precision: 0.4966\n",
      "Epoch 19/20\n",
      "556/556 [==============================] - 7s 12ms/step - loss: 3.1362 - va_out_loss: 0.2463 - expr_out_loss: 2.1548 - aus_out_loss: 0.3537 - va_out_mean_absolute_error: 0.1494 - expr_out_accuracy: 0.8517 - aus_out_aus_out_aus_out_aus_out_auc: 0.9040 - aus_out_aus_out_aus_out_aus_out_binary_accuracy: 0.8468 - aus_out_aus_out_aus_out_aus_out_recall: 0.7355 - aus_out_aus_out_aus_out_aus_out_precision: 0.5164 - val_loss: 5.9477 - val_va_out_loss: 0.7885 - val_expr_out_loss: 4.1941 - val_aus_out_loss: 0.5806 - val_va_out_mean_absolute_error: 0.2899 - val_expr_out_accuracy: 0.6166 - val_aus_out_aus_out_aus_out_aus_out_auc: 0.7642 - val_aus_out_aus_out_aus_out_aus_out_binary_accuracy: 0.7340 - val_aus_out_aus_out_aus_out_aus_out_recall: 0.6708 - val_aus_out_aus_out_aus_out_aus_out_precision: 0.4789\n",
      "Epoch 20/20\n",
      "556/556 [==============================] - 7s 12ms/step - loss: 3.1415 - va_out_loss: 0.2438 - expr_out_loss: 2.1625 - aus_out_loss: 0.3508 - va_out_mean_absolute_error: 0.1492 - expr_out_accuracy: 0.8520 - aus_out_aus_out_aus_out_aus_out_auc: 0.9059 - aus_out_aus_out_aus_out_aus_out_binary_accuracy: 0.8462 - aus_out_aus_out_aus_out_aus_out_recall: 0.7373 - aus_out_aus_out_aus_out_aus_out_precision: 0.5153 - val_loss: 6.0865 - val_va_out_loss: 0.7989 - val_expr_out_loss: 4.3276 - val_aus_out_loss: 0.5813 - val_va_out_mean_absolute_error: 0.2877 - val_expr_out_accuracy: 0.6248 - val_aus_out_aus_out_aus_out_aus_out_auc: 0.7649 - val_aus_out_aus_out_aus_out_aus_out_binary_accuracy: 0.7467 - val_aus_out_aus_out_aus_out_aus_out_recall: 0.6727 - val_aus_out_aus_out_aus_out_aus_out_precision: 0.4969\n",
      "5.839954376220703\n"
     ]
    }
   ],
   "source": [
    "mtlModel.compile(optimizer=Adam(lr=1e-3), loss=[loss_va,loss_expr,loss_aus], metrics=[[\"mean_absolute_error\"], [\"accuracy\"],metrics])\n",
    "mtlModel.summary()\n",
    "\n",
    "save_best_model = SaveBestModel('val_loss',False)\n",
    "mtlModel.fit([X_train,masks_va_train,masks_expr_train,masks_aus_train],\n",
    "             [y_va_train,y_expr_train,y_aus_train], batch_size=batch_size, epochs=20, \n",
    "             verbose=1, callbacks=[save_best_model], \n",
    "             validation_data=([X_val,masks_va_val,masks_expr_val,masks_aus_val],[y_va_val,y_expr_val,y_aus_val]))\n",
    "best_model_weights = save_best_model.best_model_weights\n",
    "print(save_best_model.best)"
   ]
  },
  {
   "cell_type": "code",
   "execution_count": 29,
   "metadata": {},
   "outputs": [],
   "source": [
    "def print_all():\n",
    "    y_pred_va,y_pred_expr,y_pred_aus=mtlModel.predict([X_val,masks_va_val,masks_expr_val,masks_aus_val])\n",
    "    print('\\nAV')\n",
    "    gt_V=y_va_val[masks_va_val==1,0]\n",
    "    gt_A=y_va_val[masks_va_val==1,1]\n",
    "    pred_V=y_pred_va[masks_va_val==1,0]\n",
    "    pred_A=y_pred_va[masks_va_val==1,1]\n",
    "    ccc_V,ccc_A,ccc_VA=metric_for_VA(gt_V,gt_A,pred_V,pred_A)\n",
    "    print(gt_V.shape,ccc_V,ccc_A,ccc_VA)\n",
    "    \n",
    "    print('\\nExpression')\n",
    "    print(y_expr_val[masks_expr_val==1].shape)\n",
    "    y_pred=np.argmax(y_pred_expr,axis=1)\n",
    "    print((y_pred==y_expr_val)[masks_expr_val==1].mean())\n",
    "    f1_expr=f1_score(y_true=y_expr_val[masks_expr_val==1],y_pred=y_pred[masks_expr_val==1], average=\"macro\")\n",
    "    print(f1_expr)\n",
    "    print(metric_for_Exp(y_expr_val[masks_expr_val==1],y_pred[masks_expr_val==1]))\n",
    "    \n",
    "    print('\\nAUs')\n",
    "    new_pred = ((y_pred_aus >= 0.5) * 1)\n",
    "    print(new_pred[masks_aus_val==1,:].shape)\n",
    "    f1_au=np.mean([f1_score(y_true=y_aus_val[masks_aus_val==1,i],y_pred=new_pred[masks_aus_val==1,i]) for i in range(y_pred_aus.shape[1])])\n",
    "    print(f1_au)\n",
    "    print(f1_score_max(y_aus_val[masks_aus_val==1,:],y_pred_aus[masks_aus_val==1,:],thresh=np.arange(0.1,1,0.1)))\n",
    "    \n",
    "    total=ccc_VA+f1_expr+f1_au\n",
    "    print('\\nTotal',ccc_VA,f1_expr,f1_au,total)"
   ]
  },
  {
   "cell_type": "code",
   "execution_count": 47,
   "metadata": {},
   "outputs": [
    {
     "name": "stdout",
     "output_type": "stream",
     "text": [
      "\n",
      "AV\n",
      "(26876,) 0.4090471734064517 0.3674063091893927 0.38822674129792223\n",
      "\n",
      "Expression\n",
      "(15440,)\n",
      "0.34682642487046633\n",
      "0.26504026317339263\n",
      "(0.26504026317339263, 0.34682642487046633, [0.3456547384978372, 0.32295719844357973, 0.2906474820143885, 0.07128446536650976, 0.3909541511771995, 0.21816601477618427, 0.05974607916355489, 0.4209119759478871])\n",
      "\n",
      "AUs\n",
      "(26876, 12)\n",
      "0.46025544413804814\n"
     ]
    },
    {
     "name": "stderr",
     "output_type": "stream",
     "text": [
      "/usr/local/lib/python3.8/dist-packages/sklearn/metrics/_classification.py:1248: UndefinedMetricWarning: Precision is ill-defined and being set to 0.0 due to no predicted samples. Use `zero_division` parameter to control this behavior.\n",
      "  _warn_prf(average, modifier, msg_start, len(result))\n",
      "/usr/local/lib/python3.8/dist-packages/sklearn/metrics/_classification.py:1248: UndefinedMetricWarning: Precision is ill-defined and being set to 0.0 due to no predicted samples. Use `zero_division` parameter to control this behavior.\n",
      "  _warn_prf(average, modifier, msg_start, len(result))\n"
     ]
    },
    {
     "name": "stdout",
     "output_type": "stream",
     "text": [
      "(0.4859314996097397, 0.5249999999999999, array([0.51618705, 0.42366046, 0.53611987, 0.54167252, 0.73734781,\n",
      "       0.71091839, 0.64928825, 0.1347452 , 0.10688909, 0.24895397,\n",
      "       0.87449997, 0.35089541]), array([0.6, 0.7, 0.5, 0.4, 0.4, 0.4, 0.5, 0.5, 0.6, 0.8, 0.3, 0.6]), array([0.7998214 , 0.88833904, 0.78114303, 0.63599494, 0.7030064 ,\n",
      "       0.70977824, 0.78274297, 0.75677184, 0.89243191, 0.94656943,\n",
      "       0.79338443, 0.81388599]))\n",
      "\n",
      "Total 0.38822674129792223 0.26504026317339263 0.46025544413804814 1.1135224486093631\n"
     ]
    }
   ],
   "source": [
    "print_all()"
   ]
  },
  {
   "cell_type": "code",
   "execution_count": 48,
   "metadata": {},
   "outputs": [
    {
     "name": "stdout",
     "output_type": "stream",
     "text": [
      "Best weights:\n",
      "\n",
      "AV\n",
      "(26876,) 0.3797703810410656 0.3558372646729406 0.3678038228570031\n",
      "\n",
      "Expression\n",
      "(15440,)\n",
      "0.34177461139896376\n",
      "0.2800059725435074\n",
      "(0.2800059725435074, 0.34177461139896376, [0.3581818181818182, 0.3095429029671211, 0.2803468208092486, 0.05013927576601671, 0.3791107974594213, 0.36765772298767224, 0.11022657685241886, 0.3848418653243423])\n",
      "\n",
      "AUs\n",
      "(26876, 12)\n",
      "0.4564833238081867\n"
     ]
    },
    {
     "name": "stderr",
     "output_type": "stream",
     "text": [
      "/usr/local/lib/python3.8/dist-packages/sklearn/metrics/_classification.py:1248: UndefinedMetricWarning: Precision is ill-defined and being set to 0.0 due to no predicted samples. Use `zero_division` parameter to control this behavior.\n",
      "  _warn_prf(average, modifier, msg_start, len(result))\n",
      "/usr/local/lib/python3.8/dist-packages/sklearn/metrics/_classification.py:1248: UndefinedMetricWarning: Precision is ill-defined and being set to 0.0 due to no predicted samples. Use `zero_division` parameter to control this behavior.\n",
      "  _warn_prf(average, modifier, msg_start, len(result))\n"
     ]
    },
    {
     "name": "stdout",
     "output_type": "stream",
     "text": [
      "(0.48430574871900606, 0.5416666666666666, array([0.51105217, 0.41157324, 0.52681341, 0.54620102, 0.73731634,\n",
      "       0.71095461, 0.6485908 , 0.13312813, 0.12139219, 0.2482679 ,\n",
      "       0.87653807, 0.33984112]), array([0.6, 0.7, 0.5, 0.5, 0.4, 0.5, 0.5, 0.6, 0.6, 0.8, 0.2, 0.6]), array([0.79424021, 0.87892544, 0.76164608, 0.67510046, 0.70929454,\n",
      "       0.7495535 , 0.78010121, 0.83234112, 0.92297961, 0.95155529,\n",
      "       0.79055663, 0.81756958]))\n",
      "\n",
      "Total 0.3678038228570031 0.2800059725435074 0.4564833238081867 1.104293119208697\n"
     ]
    }
   ],
   "source": [
    "print('Best weights:')\n",
    "mtlModel.set_weights(best_model_weights)\n",
    "print_all()"
   ]
  },
  {
   "cell_type": "code",
   "execution_count": 36,
   "metadata": {},
   "outputs": [
    {
     "name": "stdout",
     "output_type": "stream",
     "text": [
      "\n",
      "AV\n",
      "(26876,) 0.3979329061613654 0.36949729761002165 0.3837151018856935\n",
      "\n",
      "Expression\n",
      "(15440,)\n",
      "0.37480569948186526\n",
      "0.3022424974391059\n",
      "(0.3022424974391059, 0.37480569948186526, [0.3598076604211573, 0.32841565105837073, 0.25925925925925924, 0.1281094527363184, 0.4816826856108093, 0.30715123094958974, 0.13212121212121214, 0.42139282735613015])\n",
      "\n",
      "AUs\n",
      "(26876, 12)\n",
      "0.46080879636948063\n"
     ]
    },
    {
     "name": "stderr",
     "output_type": "stream",
     "text": [
      "/usr/local/lib/python3.8/dist-packages/sklearn/metrics/_classification.py:1248: UndefinedMetricWarning: Precision is ill-defined and being set to 0.0 due to no predicted samples. Use `zero_division` parameter to control this behavior.\n",
      "  _warn_prf(average, modifier, msg_start, len(result))\n",
      "/usr/local/lib/python3.8/dist-packages/sklearn/metrics/_classification.py:1248: UndefinedMetricWarning: Precision is ill-defined and being set to 0.0 due to no predicted samples. Use `zero_division` parameter to control this behavior.\n",
      "  _warn_prf(average, modifier, msg_start, len(result))\n"
     ]
    },
    {
     "name": "stdout",
     "output_type": "stream",
     "text": [
      "(0.49019032775732496, 0.5416666666666666, array([0.5339532 , 0.42508051, 0.57284289, 0.55691307, 0.73366902,\n",
      "       0.70831596, 0.64739687, 0.11086862, 0.08219178, 0.27545552,\n",
      "       0.87113181, 0.36446469]), array([0.5, 0.7, 0.5, 0.4, 0.4, 0.5, 0.5, 0.6, 0.6, 0.8, 0.3, 0.7]), array([0.77247358, 0.88707397, 0.79130079, 0.62486977, 0.70479238,\n",
      "       0.73976782, 0.76942253, 0.77262241, 0.92271915, 0.9496949 ,\n",
      "       0.78787766, 0.86504688]))\n",
      "\n",
      "Total 0.3837151018856935 0.3022424974391059 0.46080879636948063 1.1467663956942802\n"
     ]
    }
   ],
   "source": [
    "if False:\n",
    "    mtlModel.save_weights('mtl_enet2_8.h5') #0.3837151018856935 0.3022424974391059 0.46080879636948063 1.1467663956942802\n",
    "else:\n",
    "    mtlModel.load_weights('mtl_enet2_8.h5')\n",
    "    print_all()"
   ]
  },
  {
   "cell_type": "code",
   "execution_count": 37,
   "metadata": {},
   "outputs": [
    {
     "name": "stdout",
     "output_type": "stream",
     "text": [
      "0.49019032775732496\n"
     ]
    }
   ],
   "source": [
    "if True:\n",
    "    y_pred_va,y_pred_expr,y_pred_aus=mtlModel.predict([X_val,masks_va_val,masks_expr_val,masks_aus_val])\n",
    "thresholds=np.array([0.5, 0.7, 0.5, 0.4, 0.4, 0.5, 0.5, 0.6, 0.6, 0.8, 0.3, 0.7])\n",
    "new_pred = ((y_pred_aus >= thresholds) * 1)\n",
    "f1_au=np.mean([f1_score(y_true=y_aus_val[masks_aus_val==1,i],y_pred=new_pred[masks_aus_val==1,i]) for i in range(y_pred_aus.shape[1])])\n",
    "print(f1_au)\n"
   ]
  },
  {
   "cell_type": "markdown",
   "metadata": {},
   "source": [
    "### Save test results "
   ]
  },
  {
   "cell_type": "code",
   "execution_count": 38,
   "metadata": {},
   "outputs": [
    {
     "name": "stdout",
     "output_type": "stream",
     "text": [
      "51246 ['image,valence,arousal,expression,aus', 'video45_1/00001.jpg', 'video45_1/00008.jpg', 'video45_1/00017.jpg', 'video45_1/00021.jpg']\n"
     ]
    }
   ],
   "source": [
    "with open(os.path.join(DATA_DIR,'Multi_Task_Learning_Challenge_test_set_release.txt'),'r') as f:\n",
    "    test_set_videos=f.read().splitlines()\n",
    "print(len(test_set_videos),test_set_videos[:5])"
   ]
  },
  {
   "cell_type": "code",
   "execution_count": 39,
   "metadata": {},
   "outputs": [],
   "source": [
    "resdir=os.path.join(DATA_DIR,'test_results/MTL')\n",
    "header = 'image,valence,arousal,expression,aus\\n'\n",
    "with open(os.path.join(resdir,'MTL_predictions.txt'), 'w') as f:\n",
    "    f.write(header)\n",
    "    X,filenames=[],[]\n",
    "    mask_ones=np.ones(batch_size)\n",
    "    \n",
    "    for k in test_set_videos[1:]:\n",
    "        if k in filename2featuresAll:\n",
    "            X.append(np.concatenate((filename2featuresAll[k][0],filename2featuresAll[k][1])))\n",
    "            filenames.append(k)\n",
    "            \n",
    "            if len(X)==batch_size:\n",
    "                y_pred_va,y_pred_expr,y_pred_aus=mtlModel.predict([np.array(X),mask_ones,mask_ones,mask_ones])\n",
    "                y_expr=np.argmin(y_pred_expr,axis=1)\n",
    "                y_aus=(y_pred_aus>=thresholds)*1\n",
    "\n",
    "                for filename, va,expr,aus in zip(filenames,y_pred_va,y_expr,y_aus):\n",
    "                    s=','.join([filename,str(va[0]),str(va[1]),str(expr),*map(str,aus)])+'\\n'\n",
    "                    f.write(s)\n",
    "                X,filenames=[],[]\n",
    "        else:\n",
    "            print(k, 'not found')\n",
    "    if len(X)>0:\n",
    "        mask_ones=np.ones(len(X))\n",
    "        y_pred_va,y_pred_expr,y_pred_aus=mtlModel.predict([np.array(X),mask_ones,mask_ones,mask_ones])\n",
    "        y_expr=np.argmin(y_pred_expr,axis=1)\n",
    "        y_aus=(y_pred_aus>=thresholds)*1\n",
    "\n",
    "        for filename, va,expr,aus in zip(filenames,y_pred_va,y_expr,y_aus):\n",
    "            s=','.join([filename,str(va[0]),str(va[1]),str(expr),*map(str,aus)])+'\\n'\n",
    "            f.write(s)\n",
    "        X,filenames=[],[]"
   ]
  }
 ],
 "metadata": {
  "kernelspec": {
   "display_name": "Python 3",
   "language": "python",
   "name": "python3"
  },
  "language_info": {
   "codemirror_mode": {
    "name": "ipython",
    "version": 3
   },
   "file_extension": ".py",
   "mimetype": "text/x-python",
   "name": "python",
   "nbconvert_exporter": "python",
   "pygments_lexer": "ipython3",
   "version": "3.8.10"
  }
 },
 "nbformat": 4,
 "nbformat_minor": 2
}
